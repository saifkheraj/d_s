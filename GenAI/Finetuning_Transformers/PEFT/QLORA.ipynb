{
 "cells": [
  {
   "cell_type": "code",
   "execution_count": null,
   "id": "6ca55af9",
   "metadata": {
    "colab": {
     "base_uri": "https://localhost:8080/",
     "height": 1000
    },
    "id": "6ca55af9",
    "outputId": "7fd7a77a-6c65-443a-bf02-411b5b0b6b63"
   },
   "outputs": [],
   "source": [
    "!pip install transformers datasets accelerate bitsandbytes peft trl"
   ]
  },
  {
   "cell_type": "code",
   "execution_count": null,
   "id": "S9PJuwFts7rY",
   "metadata": {
    "colab": {
     "base_uri": "https://localhost:8080/"
    },
    "id": "S9PJuwFts7rY",
    "outputId": "88d14ca6-e53a-45ce-eb47-16dc59c71a77"
   },
   "outputs": [],
   "source": [
    "pip install datasets"
   ]
  },
  {
   "cell_type": "code",
   "execution_count": null,
   "id": "mbRV3vZDtVEk",
   "metadata": {
    "colab": {
     "base_uri": "https://localhost:8080/",
     "height": 1000
    },
    "id": "mbRV3vZDtVEk",
    "outputId": "d632c63e-fe67-410c-e62b-e6aad7e7b0ab"
   },
   "outputs": [],
   "source": [
    "pip install bitsandbytes transformers peft accelerate datasets trl\n"
   ]
  },
  {
   "cell_type": "code",
   "execution_count": null,
   "id": "pxTFmFmTESGW",
   "metadata": {
    "colab": {
     "base_uri": "https://localhost:8080/"
    },
    "id": "pxTFmFmTESGW",
    "outputId": "8ed6842a-3b00-4e67-e8bf-401682a05a2b"
   },
   "outputs": [],
   "source": [
    "import transformers\n",
    "print(transformers.__version__)"
   ]
  },
  {
   "cell_type": "code",
   "execution_count": null,
   "id": "ud6KEXVaEYy2",
   "metadata": {
    "colab": {
     "base_uri": "https://localhost:8080/"
    },
    "id": "ud6KEXVaEYy2",
    "outputId": "fdebb3eb-3666-492f-a3a3-ce46a13d4157"
   },
   "outputs": [],
   "source": [
    "pip install transformers==4.8.0"
   ]
  },
  {
   "cell_type": "code",
   "execution_count": null,
   "id": "lGu8R1HYe6eV",
   "metadata": {
    "id": "lGu8R1HYe6eV"
   },
   "outputs": [],
   "source": [
    "\n",
    "# Step 1: Load libraries\n",
    "from transformers import AutoModelForCausalLM, AutoTokenizer, TrainingArguments, Trainer\n",
    "from peft import LoraConfig, get_peft_model, prepare_model_for_kbit_training, TaskType\n",
    "from datasets import load_dataset\n",
    "from transformers import DataCollatorWithPadding\n",
    "import torch\n",
    "import bitsandbytes as bnb\n"
   ]
  },
  {
   "cell_type": "code",
   "execution_count": null,
   "id": "OcZnWlHlfBK9",
   "metadata": {
    "colab": {
     "base_uri": "https://localhost:8080/",
     "height": 293
    },
    "id": "OcZnWlHlfBK9",
    "outputId": "bfcac903-0e13-41fc-c09f-4c8700c7e9af"
   },
   "outputs": [],
   "source": [
    "import torch\n",
    "from transformers import (\n",
    "    AutoTokenizer,\n",
    "    AutoModelForSequenceClassification,\n",
    "    TrainingArguments,\n",
    "    Trainer,\n",
    "    BitsAndBytesConfig\n",
    ")\n",
    "from datasets import load_dataset\n",
    "from peft import get_peft_model, LoraConfig, TaskType\n",
    "\n",
    "# Step 1: Load tokenizer and dataset\n",
    "model_name = \"bert-base-uncased\"\n",
    "tokenizer = AutoTokenizer.from_pretrained(model_name)\n",
    "\n",
    "dataset = load_dataset(\"ag_news\")\n",
    "dataset = dataset.map(lambda e: tokenizer(e[\"text\"], truncation=True, padding=\"max_length\"), batched=True)\n",
    "dataset = dataset.rename_column(\"label\", \"labels\")\n",
    "dataset.set_format(type=\"torch\", columns=[\"input_ids\", \"attention_mask\", \"labels\"])\n",
    "\n",
    "# Step 2: Set up QLoRA (4-bit quantization) config\n",
    "bnb_config = BitsAndBytesConfig(\n",
    "    load_in_4bit=True,\n",
    "    bnb_4bit_use_double_quant=True,\n",
    "    bnb_4bit_quant_type=\"nf4\",\n",
    "    bnb_4bit_compute_dtype=torch.float16\n",
    ")\n",
    "\n",
    "# Step 3: Load quantized pre-trained model\n",
    "model = AutoModelForSequenceClassification.from_pretrained(\n",
    "    model_name,\n",
    "    quantization_config=bnb_config,\n",
    "    device_map=\"auto\",\n",
    "    num_labels=4\n",
    ")\n",
    "\n",
    "# Step 4: Apply LoRA configuration\n",
    "lora_config = LoraConfig(\n",
    "    r=8,\n",
    "    lora_alpha=16,\n",
    "    target_modules=[\"query\", \"value\"],  # If this fails, use [\"q_proj\", \"v_proj\"]\n",
    "    lora_dropout=0.05,\n",
    "    bias=\"none\",\n",
    "    task_type=TaskType.SEQ_CLS\n",
    ")\n",
    "\n",
    "model = get_peft_model(model, lora_config)\n",
    "model.print_trainable_parameters()\n",
    "\n",
    "# Step 5: Training arguments\n",
    "training_args = TrainingArguments(\n",
    "    output_dir=\"./results-qlora-agnews\",\n",
    "    per_device_train_batch_size=16,\n",
    "    per_device_eval_batch_size=16,\n",
    "    num_train_epochs=3,\n",
    "    save_strategy=\"epoch\",\n",
    "    logging_strategy=\"epoch\",\n",
    "    learning_rate=2e-4,\n",
    "    bf16=True,\n",
    "    report_to=\"none\"\n",
    ")\n",
    "\n",
    "# Step 6: Train using Trainer API\n",
    "trainer = Trainer(\n",
    "    model=model,\n",
    "    args=training_args,\n",
    "    train_dataset=dataset[\"train\"].select(range(2000)),  # Smaller subset for quick training\n",
    "    eval_dataset=dataset[\"test\"].select(range(500))\n",
    ")\n",
    "\n",
    "trainer.train()\n"
   ]
  }
 ],
 "metadata": {
  "accelerator": "GPU",
  "colab": {
   "gpuType": "T4",
   "provenance": []
  },
  "kernelspec": {
   "display_name": "Python 3",
   "name": "python3"
  },
  "language_info": {
   "codemirror_mode": {
    "name": "ipython",
    "version": 3
   },
   "file_extension": ".py",
   "mimetype": "text/x-python",
   "name": "python",
   "nbconvert_exporter": "python",
   "pygments_lexer": "ipython3",
   "version": "3.12.1"
  }
 },
 "nbformat": 4,
 "nbformat_minor": 5
}
