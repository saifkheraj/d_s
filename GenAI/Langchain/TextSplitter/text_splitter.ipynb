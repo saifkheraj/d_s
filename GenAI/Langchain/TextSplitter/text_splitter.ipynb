{
  "cells": [
    {
      "cell_type": "markdown",
      "source": [
        "# **Apply Text Splitting Techniques to Enhance Model Responsiveness**\n",
        "\n",
        "In many data processing tasks, especially those involving large documents, breaking down text into smaller, more manageable chunks is essential. Text splitters are tools specifically designed to accomplish this, ensuring that lengthy texts are divided into coherent segments. This division is crucial for maintaining the integrity and readability of the information, making it easier to handle and process. Effective text splitting helps prevent overwhelming systems with large, unwieldy blocks of text and ensures that each segment remains meaningful and contextually relevant.\n",
        "\n",
        "The significance of text splitters becomes even more apparent in the context of retrieval-augmented generation (RAG). RAG involves fetching relevant pieces of information from a large dataset and using them to generate accurate and context-aware responses. Without properly split text, the retrieval process can become inefficient, potentially missing critical pieces of information or returning irrelevant data. By using text splitters to create well-defined chunks, the retrieval process can be streamlined, ensuring that the most relevant information is easily accessible. This not only enhances the efficiency of data retrieval but also improves the quality and relevance of the generated responses, making text splitters an important tool in the RAG workflow.\n",
        "\n",
        "<figure>\n",
        "    <img src=\"https://cf-courses-data.s3.us.cloud-object-storage.appdomain.cloud/3Y4eB0v7LXU5cSVbeN1b8A/text-splitter.png\" width=\"50%\" alt=\"langchain\">\n",
        "    <figcaption><a>source: DALL-E</a></figcaption>\n",
        "</figure>\n",
        "\n",
        "*   [`langchain`, `langchain-text-splitters`](https://www.langchain.com/) for using relevant features and text splitters from Langchain.\n",
        "*   [`lxml`](https://pypi.org/project/lxml/) for libxml2 and libxslt libraries, which is used for splitting html text.\n"
      ],
      "metadata": {
        "id": "FmQR9RgKb6Hq"
      },
      "id": "FmQR9RgKb6Hq"
    },
    {
      "cell_type": "markdown",
      "source": [],
      "metadata": {
        "id": "KXHQYcMNcG4h"
      },
      "id": "KXHQYcMNcG4h"
    },
    {
      "cell_type": "code",
      "execution_count": null,
      "id": "82e916ae",
      "metadata": {
        "id": "82e916ae",
        "outputId": "60d88a2d-f848-4538-cb6b-bcbbdf240b02"
      },
      "outputs": [
        {
          "name": "stdout",
          "output_type": "stream",
          "text": [
            "hello\n"
          ]
        }
      ],
      "source": [
        "%%capture\n",
        "!pip install \"langchain==0.2.7\"\n",
        "!pip install \"langchain-core==0.2.20\"\n",
        "!pip install \"langchain-text-splitters==0.2.2\"\n",
        "!pip install \"lxml==5.2.2\""
      ]
    },
    {
      "cell_type": "markdown",
      "source": [
        "## Text splitters\n",
        "\n",
        "### Key parameters\n",
        "\n",
        "\n",
        "When using the splitter, you can customize several key parameters to fit your needs:\n",
        "- **separator**: Define the characters that will be used for splitting the text.\n",
        "- **chunk_size**: Specify the maximum size of your chunks to ensure they are as granular or broad as needed.\n",
        "- **chunk_overlap**: Maintain context between chunks by setting the `chunk_overlap` parameter, which determines the number of characters that overlap between consecutive chunks. This helps ensure that information isn't lost at the chunk boundaries.\n",
        "- **length_function**: Define how the length of chunks is calculated.\n",
        "\n",
        "### Prepare the document\n",
        "\n",
        "A long document has been prepared for this project to demonstrate the performance of each splitter. Run the following code to download it.\n"
      ],
      "metadata": {
        "id": "CmxKBQipcKp2"
      },
      "id": "CmxKBQipcKp2"
    },
    {
      "cell_type": "code",
      "source": [
        "!wget \"https://cf-courses-data.s3.us.cloud-object-storage.appdomain.cloud/YRYau14UJyh0DdiLDdzFcA/companypolicies.txt\""
      ],
      "metadata": {
        "colab": {
          "base_uri": "https://localhost:8080/"
        },
        "id": "hpq8uKgZcITH",
        "outputId": "1e5f34a1-7bc2-4511-abe9-edbdee04cb81"
      },
      "id": "hpq8uKgZcITH",
      "execution_count": 1,
      "outputs": [
        {
          "output_type": "stream",
          "name": "stdout",
          "text": [
            "--2025-05-27 20:31:37--  https://cf-courses-data.s3.us.cloud-object-storage.appdomain.cloud/YRYau14UJyh0DdiLDdzFcA/companypolicies.txt\n",
            "Resolving cf-courses-data.s3.us.cloud-object-storage.appdomain.cloud (cf-courses-data.s3.us.cloud-object-storage.appdomain.cloud)... 169.63.118.104\n",
            "Connecting to cf-courses-data.s3.us.cloud-object-storage.appdomain.cloud (cf-courses-data.s3.us.cloud-object-storage.appdomain.cloud)|169.63.118.104|:443... connected.\n",
            "HTTP request sent, awaiting response... 200 OK\n",
            "Length: 15660 (15K) [text/plain]\n",
            "Saving to: ‘companypolicies.txt’\n",
            "\n",
            "companypolicies.txt 100%[===================>]  15.29K  --.-KB/s    in 0s      \n",
            "\n",
            "2025-05-27 20:31:37 (150 MB/s) - ‘companypolicies.txt’ saved [15660/15660]\n",
            "\n"
          ]
        }
      ]
    },
    {
      "cell_type": "code",
      "source": [],
      "metadata": {
        "id": "f8gST8X6ceBD"
      },
      "id": "f8gST8X6ceBD",
      "execution_count": null,
      "outputs": []
    },
    {
      "cell_type": "markdown",
      "source": [
        "Let's take a look at what the document looks like.\n"
      ],
      "metadata": {
        "id": "b-mx-Lq-cgDH"
      },
      "id": "b-mx-Lq-cgDH"
    },
    {
      "cell_type": "code",
      "source": [
        "# This is a long document you can split up.\n",
        "with open(\"companypolicies.txt\") as f:\n",
        "    companypolicies = f.read()\n",
        "print(companypolicies)"
      ],
      "metadata": {
        "colab": {
          "base_uri": "https://localhost:8080/"
        },
        "id": "qmacPgLHcfHY",
        "outputId": "c2c7d64f-fedf-4912-df3f-76c4f94193f5"
      },
      "id": "qmacPgLHcfHY",
      "execution_count": 3,
      "outputs": [
        {
          "output_type": "stream",
          "name": "stdout",
          "text": [
            "1.\tCode of Conduct\n",
            "\n",
            "Our Code of Conduct outlines the fundamental principles and ethical standards that guide every member of our organization. We are committed to maintaining a workplace that is built on integrity, respect, and accountability.\n",
            "Integrity: We hold ourselves to the highest ethical standards. This means acting honestly and transparently in all our interactions, whether with colleagues, clients, or the broader community. We respect and protect sensitive information, and we avoid conflicts of interest.\n",
            "Respect: We embrace diversity and value each individual's contributions. Discrimination, harassment, or any form of disrespectful behavior is unacceptable. We create an inclusive environment where differences are celebrated and everyone is treated with dignity and courtesy.\n",
            "Accountability: We take responsibility for our actions and decisions. We follow all relevant laws and regulations, and we strive to continuously improve our practices. We report any potential violations of this code and support the investigation of such matters.\n",
            "Safety: We prioritize the safety of our employees, clients, and the communities we serve. We maintain a culture of safety, including reporting any unsafe conditions or practices.\n",
            "Environmental Responsibility: We are committed to minimizing our environmental footprint and promoting sustainable practices.\n",
            "Our Code of Conduct is not just a set of rules; it is the foundation of our organization's culture. We expect all employees to uphold these principles and serve as role models for others, ensuring we maintain our reputation for ethical conduct, integrity, and social responsibility.\n",
            "\n",
            "2.\tRecruitment Policy\n",
            "\n",
            "Our Recruitment Policy reflects our commitment to attracting, selecting, and onboarding the most qualified and diverse candidates to join our organization. We believe that the success of our company relies on the talents, skills, and dedication of our employees.\n",
            "Equal Opportunity: We are an equal opportunity employer and do not discriminate on the basis of race, color, religion, sex, sexual orientation, gender identity, national origin, age, disability, or any other protected status. We actively promote diversity and inclusion.\n",
            "Transparency: We maintain transparency in our recruitment processes. All job vacancies are advertised internally and externally when appropriate. Job descriptions and requirements are clear and accurately represent the role.\n",
            "Selection Criteria: Our selection process is based on the qualifications, experience, and skills necessary for the position. Interviews and assessments are conducted objectively, and decisions are made without bias.\n",
            "Data Privacy: We are committed to protecting the privacy of candidates' personal information and adhere to all relevant data protection laws and regulations.\n",
            "Feedback: Candidates will receive timely and constructive feedback on their application and interview performance.\n",
            "Onboarding: New employees receive comprehensive onboarding to help them integrate into the organization effectively. This includes information on our culture, policies, and expectations.\n",
            "Employee Referrals: We encourage and appreciate employee referrals as they contribute to building a strong and engaged team.\n",
            "Our Recruitment Policy is a foundation for creating a diverse, inclusive, and talented workforce. It ensures that we attract and hire the best candidates who align with our company values and contribute to our continued success. We continuously review and update this policy to reflect evolving best practices in recruitment.\n",
            "\n",
            "3.\tInternet and Email Policy\n",
            "\n",
            "Our Internet and Email Policy is established to guide the responsible and secure use of these essential tools within our organization. We recognize their significance in daily business operations and the importance of adhering to principles that maintain security, productivity, and legal compliance.\n",
            "Acceptable Use: Company-provided internet and email services are primarily meant for job-related tasks. Limited personal use is allowed during non-work hours, provided it doesn't interfere with work responsibilities.\n",
            "Security: Safeguard your login credentials, avoiding the sharing of passwords. Exercise caution with email attachments and links from unknown sources. Promptly report any unusual online activity or potential security breaches.\n",
            "Confidentiality: Reserve email for the transmission of confidential information, trade secrets, and sensitive customer data only when encryption is applied. Exercise discretion when discussing company matters on public forums or social media.\n",
            "Harassment and Inappropriate Content: Internet and email usage must not involve harassment, discrimination, or the distribution of offensive or inappropriate content. Show respect and sensitivity to others in all online communications.\n",
            "Compliance: Ensure compliance with all relevant laws and regulations regarding internet and email usage, including those related to copyright and data protection.\n",
            "Monitoring: The company retains the right to monitor internet and email usage for security and compliance purposes.\n",
            "Consequences: Policy violations may lead to disciplinary measures, including potential termination.\n",
            "Our Internet and Email Policy aims to promote safe, responsible usage of digital communication tools that align with our values and legal obligations. Each employee is expected to understand and follow this policy. Regular reviews ensure its alignment with evolving technology and security standards.\n",
            "\n",
            "4.\tMobile Phone Policy\n",
            "\n",
            "The Mobile Phone Policy sets forth the standards and expectations governing the appropriate and responsible usage of mobile devices in the organization. The purpose of this policy is to ensure that employees utilize mobile phones in a manner consistent with company values and legal compliance.\n",
            "Acceptable Use: Mobile devices are primarily intended for work-related tasks. Limited personal usage is allowed, provided it does not disrupt work obligations.\n",
            "Security: Safeguard your mobile device and access credentials. Exercise caution when downloading apps or clicking links from unfamiliar sources. Promptly report security concerns or suspicious activities related to your mobile device.\n",
            "Confidentiality: Avoid transmitting sensitive company information via unsecured messaging apps or emails. Be discreet when discussing company matters in public spaces.\n",
            "Cost Management: Keep personal phone usage separate from company accounts and reimburse the company for any personal charges on company-issued phones.\n",
            "Compliance: Adhere to all pertinent laws and regulations concerning mobile phone usage, including those related to data protection and privacy.\n",
            "Lost or Stolen Devices: Immediately report any lost or stolen mobile devices to the IT department or your supervisor.\n",
            "Consequences: Non-compliance with this policy may lead to disciplinary actions, including the potential loss of mobile phone privileges.\n",
            "The Mobile Phone Policy is aimed at promoting the responsible and secure use of mobile devices in line with legal and ethical standards. Every employee is expected to comprehend and abide by these guidelines. Regular reviews of the policy ensure its ongoing alignment with evolving technology and security best practices.\n",
            "\n",
            "5.\tSmoking Policy\n",
            "\n",
            "Policy Purpose: The Smoking Policy has been established to provide clear guidance and expectations concerning smoking on company premises. This policy is in place to ensure a safe and healthy environment for all employees, visitors, and the general public.\n",
            "Designated Smoking Areas: Smoking is only permitted in designated smoking areas, as marked by appropriate signage. These areas have been chosen to minimize exposure to secondhand smoke and to maintain the overall cleanliness of the premises.\n",
            "Smoking Restrictions: Smoking inside company buildings, offices, meeting rooms, and other enclosed spaces is strictly prohibited. This includes electronic cigarettes and vaping devices.\n",
            "Compliance with Applicable Laws: All employees and visitors must adhere to relevant federal, state, and local smoking laws and regulations.\n",
            "Disposal of Smoking Materials: Properly dispose of cigarette butts and related materials in designated receptacles. Littering on company premises is prohibited.\n",
            "No Smoking in Company Vehicles: Smoking is not permitted in company vehicles, whether they are owned or leased, to maintain the condition and cleanliness of these vehicles.\n",
            "Enforcement and Consequences: All employees and visitors are expected to adhere to this policy. Non-compliance may lead to appropriate disciplinary action, which could include fines, or, in the case of employees, possible termination of employment.\n",
            "Review of Policy: This policy will be reviewed periodically to ensure its alignment with evolving legal requirements and best practices for maintaining a healthy and safe workplace.\n",
            "We appreciate your cooperation in maintaining a smoke-free and safe environment for all.\n",
            "\n",
            "6.\tDrug and Alcohol Policy\n",
            "\n",
            "Policy Objective: The Drug and Alcohol Policy is established to establish clear expectations and guidelines for the responsible use of drugs and alcohol within the organization. This policy aims to maintain a safe, healthy, and productive workplace.\n",
            "Prohibited Substances: The use, possession, distribution, or sale of illegal drugs or unauthorized controlled substances is strictly prohibited on company premises or during work-related activities. This includes the misuse of prescription drugs.\n",
            "Alcohol Consumption: The consumption of alcoholic beverages is not allowed during work hours, on company property, or while performing company-related duties. Exception may be made for company-sanctioned events.\n",
            "Impairment: Employees are expected to perform their job duties without impairment from drugs or alcohol. The use of substances that could impair job performance or pose a safety risk is prohibited.\n",
            "Testing and Searches: The organization reserves the right to conduct drug and alcohol testing as per applicable laws and regulations. Employees may be subject to testing in cases of reasonable suspicion, post-accident, or as part of routine workplace safety measures.\n",
            "Reporting: Employees should report any concerns related to drug or alcohol misuse by themselves or their colleagues, as well as safety concerns arising from such misuse.\n",
            "Treatment and Assistance: Employees with substance abuse issues are encouraged to seek help. The organization is committed to providing support, resources, and information to assist those seeking treatment.\n",
            "Consequences: Violation of this policy may result in disciplinary actions, up to and including termination of employment. Legal action may also be pursued when necessary.\n",
            "Policy Review: This policy will undergo periodic review to ensure its continued relevance and compliance with evolving legal requirements and best practices for a safe and productive work environment.\n",
            "Your adherence to this policy is appreciated as it helps to maintain a safe and drug-free workplace for all.\n",
            "\n",
            "7.\tHealth and Safety Policy\n",
            "\n",
            "Our commitment to health and safety is paramount. We prioritize the well-being of our employees, customers, and the public. We diligently comply with all relevant health and safety laws and regulations. Our objective is to maintain a workplace free from hazards, preventing accidents, injuries, and illnesses. Every individual within our organization is responsible for upholding these standards. We regularly assess and improve our safety measures, provide adequate training, and encourage open communication regarding safety concerns. Through collective dedication, we aim to ensure a safe, healthy, and secure environment for all. Your cooperation is essential in achieving this common goal.\n",
            "\n",
            "8.\tAnti-discrimination and Harassment Policy\n",
            "\n",
            "The Anti-Discrimination and Harassment Policy is a testament to the commitment of this organization in fostering a workplace that is free from discrimination, harassment, and any form of unlawful bias. This policy applies to every individual within the organization, including employees, contractors, visitors, and clients.\n",
            "Non-Discrimination: This organization strictly prohibits discrimination based on race, color, religion, gender, national origin, age, disability, sexual orientation, or any other legally protected characteristic in all aspects of employment, including recruitment, hiring, compensation, benefits, promotions, and terminations.\n",
            "Harassment: Harassment in any form, whether based on the aforementioned characteristics or any other protected status, is unacceptable. This encompasses unwelcome advances, offensive jokes, slurs, and other verbal or physical conduct that creates a hostile or intimidating work environment.\n",
            "Reporting: Individuals who experience or witness any form of discrimination or harassment are encouraged to promptly report the incident to their supervisor, manager, or the designated HR representative. The organization is committed to a timely and confidential investigation of such complaints.\n",
            "Consequences: Violation of this policy may result in disciplinary action, including termination of employment. The organization is committed to taking appropriate action against any individual found to be in violation of this policy.\n",
            "Review and Update: This policy is subject to regular review and update to remain aligned with evolving legal requirements and best practices in preventing discrimination and harassment. This organization considers it a collective responsibility to ensure a workplace free from discrimination and harassment, and it is essential that every individual within the organization plays their part in upholding these principles.\n",
            "\n",
            "9.\tDiscipline and Termination Policy\n",
            "\n",
            "The Discipline and Termination Policy underscores the organization's commitment to maintaining a productive, ethical, and respectful work environment. This policy applies to all personnel, including employees, contractors, and temporary staff.\n",
            "Performance and Conduct Expectations: Employees are expected to meet performance standards and adhere to conduct guidelines. The organization will provide clear expectations, feedback, and opportunities for improvement when performance or conduct issues arise.\n",
            "Disciplinary Actions: When necessary, disciplinary actions will be taken, which may include verbal warnings, written warnings, suspension, or other appropriate measures. Disciplinary actions are designed to address issues constructively and maintain performance standards.\n",
            "Termination: In situations where an employee's performance or conduct issues persist, the organization may resort to termination. Termination may also occur for reasons such as redundancy, violation of policies, or restructuring.\n",
            "Termination Procedure: The organization will follow appropriate procedures, ensuring fairness and adherence to legal requirements during the termination process. Employees may be eligible for notice periods, severance pay, or other benefits as per employment agreements and applicable laws.\n",
            "Exit Process: The organization will conduct an exit process to ensure a smooth transition for departing employees, including the return of company property, final pay, and cancellation of access and benefits.\n",
            "This policy serves as a framework for handling discipline and termination. The organization recognizes the importance of fairness and consistency in these processes, and decisions will be made after careful consideration. Every employee is expected to understand and adhere to this policy, contributing to a respectful and productive workplace. Regular reviews will ensure its alignment with evolving legal requirements and best practices.\n",
            "\n"
          ]
        }
      ]
    },
    {
      "cell_type": "markdown",
      "source": [
        "It is a long document about a company's policies.\n",
        "\n",
        "### Document object\n",
        "\n",
        "Before introducing the splitters, let's take a look at the document object in LangChain, which is a data structure used to represent and manage text data in RAG process.\n",
        "\n",
        "A Document object in LangChain contains information about some data. It has two attributes:\n",
        "\n",
        "- `page_content: str`: The content of this document. Currently is only a string.\n",
        "- `metadata: dict`: Arbitrary metadata associated with this document. Can track the document id, file name, etc.\n"
      ],
      "metadata": {
        "id": "0oPcSiu3cptB"
      },
      "id": "0oPcSiu3cptB"
    },
    {
      "cell_type": "code",
      "source": [
        "from langchain_core.documents import Document\n",
        "Document(page_content=\"\"\"Python is an interpreted high-level general-purpose programming language.\n",
        "                        Python's design philosophy emphasizes code readability with its notable use of significant indentation.\"\"\",\n",
        "         metadata={\n",
        "             'my_document_id' : 234234,\n",
        "             'my_document_source' : \"About Python\",\n",
        "             'my_document_create_time' : 1680013019\n",
        "         })"
      ],
      "metadata": {
        "colab": {
          "base_uri": "https://localhost:8080/"
        },
        "id": "uHou88pccn6b",
        "outputId": "fa452f2b-ca56-4561-8d64-7d5918f01dee"
      },
      "id": "uHou88pccn6b",
      "execution_count": 4,
      "outputs": [
        {
          "output_type": "execute_result",
          "data": {
            "text/plain": [
              "Document(metadata={'my_document_id': 234234, 'my_document_source': 'About Python', 'my_document_create_time': 1680013019}, page_content=\"Python is an interpreted high-level general-purpose programming language. \\n                        Python's design philosophy emphasizes code readability with its notable use of significant indentation.\")"
            ]
          },
          "metadata": {},
          "execution_count": 4
        }
      ]
    },
    {
      "cell_type": "markdown",
      "source": [
        "### Split by Character\n",
        "\n",
        "This is the simplest method, which splits the text based on characters (by default `\"\\n\\n\"`) and measures chunk length by the number of characters.\n",
        "- **How the text is split**: By single character.\n",
        "- **How the chunk size is measured**: By number of characters.\n",
        "\n",
        "\n",
        "\n",
        "In the following code, you will use `CharacterTextSplitter` to split the document by character.\n",
        "- Separator: Set to `''`, meaning that any character can act as a separator once the chunk size reaches the set limit.\n",
        "- Chunk size: Set to `200`, meaning that once a chunk reaches 200 characters, it will be split.\n",
        "- Chunk overlap: Set to `20`, meaning there will be `20` characters overlapping between chunks.\n",
        "- Length function: Set to `len`.\n"
      ],
      "metadata": {
        "id": "Khvxi25Tds-r"
      },
      "id": "Khvxi25Tds-r"
    },
    {
      "cell_type": "code",
      "source": [
        "from langchain.text_splitter import CharacterTextSplitter\n",
        "\n",
        "text_splitter = CharacterTextSplitter(\n",
        "    separator=\"\",\n",
        "    chunk_size=200,\n",
        "    chunk_overlap=20,\n",
        "    length_function=len,\n",
        ")"
      ],
      "metadata": {
        "id": "NJIl4zGzdnC0"
      },
      "id": "NJIl4zGzdnC0",
      "execution_count": 5,
      "outputs": []
    },
    {
      "cell_type": "markdown",
      "source": [
        "You will use `split_text` function to operate the split.\n"
      ],
      "metadata": {
        "id": "-Nn2mIJed1q_"
      },
      "id": "-Nn2mIJed1q_"
    },
    {
      "cell_type": "code",
      "source": [
        "texts = text_splitter.split_text(companypolicies)"
      ],
      "metadata": {
        "id": "0pImnNI0dzzF"
      },
      "id": "0pImnNI0dzzF",
      "execution_count": 6,
      "outputs": []
    },
    {
      "cell_type": "markdown",
      "source": [
        "Let's take a look how the document has been split.\n"
      ],
      "metadata": {
        "id": "9x1soOAhd4sz"
      },
      "id": "9x1soOAhd4sz"
    },
    {
      "cell_type": "code",
      "source": [
        "texts"
      ],
      "metadata": {
        "colab": {
          "base_uri": "https://localhost:8080/"
        },
        "id": "s-1xSmxId575",
        "outputId": "9a3b325b-9ed5-4557-b30b-e392ba8f2b4d"
      },
      "id": "s-1xSmxId575",
      "execution_count": 7,
      "outputs": [
        {
          "output_type": "execute_result",
          "data": {
            "text/plain": [
              "['1.\\tCode of Conduct\\n\\nOur Code of Conduct outlines the fundamental principles and ethical standards that guide every member of our organization. We are committed to maintaining a workplace that is built',\n",
              " 'kplace that is built on integrity, respect, and accountability.\\nIntegrity: We hold ourselves to the highest ethical standards. This means acting honestly and transparently in all our interactions, whe',\n",
              " 'ur interactions, whether with colleagues, clients, or the broader community. We respect and protect sensitive information, and we avoid conflicts of interest.\\nRespect: We embrace diversity and value e',\n",
              " \"iversity and value each individual's contributions. Discrimination, harassment, or any form of disrespectful behavior is unacceptable. We create an inclusive environment where differences are celebrat\",\n",
              " 'erences are celebrated and everyone is treated with dignity and courtesy.\\nAccountability: We take responsibility for our actions and decisions. We follow all relevant laws and regulations, and we stri',\n",
              " 'lations, and we strive to continuously improve our practices. We report any potential violations of this code and support the investigation of such matters.\\nSafety: We prioritize the safety of our emp',\n",
              " 'he safety of our employees, clients, and the communities we serve. We maintain a culture of safety, including reporting any unsafe conditions or practices.\\nEnvironmental Responsibility: We are committ',\n",
              " \"lity: We are committed to minimizing our environmental footprint and promoting sustainable practices.\\nOur Code of Conduct is not just a set of rules; it is the foundation of our organization's culture\",\n",
              " \"ganization's culture. We expect all employees to uphold these principles and serve as role models for others, ensuring we maintain our reputation for ethical conduct, integrity, and social responsibil\",\n",
              " 'd social responsibility.\\n\\n2.\\tRecruitment Policy\\n\\nOur Recruitment Policy reflects our commitment to attracting, selecting, and onboarding the most qualified and diverse candidates to join our organizat',\n",
              " 'o join our organization. We believe that the success of our company relies on the talents, skills, and dedication of our employees.\\nEqual Opportunity: We are an equal opportunity employer and do not d',\n",
              " 'mployer and do not discriminate on the basis of race, color, religion, sex, sexual orientation, gender identity, national origin, age, disability, or any other protected status. We actively promote di',\n",
              " 'actively promote diversity and inclusion.\\nTransparency: We maintain transparency in our recruitment processes. All job vacancies are advertised internally and externally when appropriate. Job descrip',\n",
              " 'opriate. Job descriptions and requirements are clear and accurately represent the role.\\nSelection Criteria: Our selection process is based on the qualifications, experience, and skills necessary for t',\n",
              " \"ills necessary for the position. Interviews and assessments are conducted objectively, and decisions are made without bias.\\nData Privacy: We are committed to protecting the privacy of candidates' pers\",\n",
              " \"of candidates' personal information and adhere to all relevant data protection laws and regulations.\\nFeedback: Candidates will receive timely and constructive feedback on their application and interv\",\n",
              " 'plication and interview performance.\\nOnboarding: New employees receive comprehensive onboarding to help them integrate into the organization effectively. This includes information on our culture, poli',\n",
              " 'on our culture, policies, and expectations.\\nEmployee Referrals: We encourage and appreciate employee referrals as they contribute to building a strong and engaged team.\\nOur Recruitment Policy is a fou',\n",
              " 'ment Policy is a foundation for creating a diverse, inclusive, and talented workforce. It ensures that we attract and hire the best candidates who align with our company values and contribute to our c',\n",
              " 'contribute to our continued success. We continuously review and update this policy to reflect evolving best practices in recruitment.\\n\\n3.\\tInternet and Email Policy\\n\\nOur Internet and Email Policy is e',\n",
              " 'nd Email Policy is established to guide the responsible and secure use of these essential tools within our organization. We recognize their significance in daily business operations and the importance',\n",
              " 's and the importance of adhering to principles that maintain security, productivity, and legal compliance.\\nAcceptable Use: Company-provided internet and email services are primarily meant for job-rela',\n",
              " \"y meant for job-related tasks. Limited personal use is allowed during non-work hours, provided it doesn't interfere with work responsibilities.\\nSecurity: Safeguard your login credentials, avoiding the\",\n",
              " 'ntials, avoiding the sharing of passwords. Exercise caution with email attachments and links from unknown sources. Promptly report any unusual online activity or potential security breaches.\\nConfident',\n",
              " 'breaches.\\nConfidentiality: Reserve email for the transmission of confidential information, trade secrets, and sensitive customer data only when encryption is applied. Exercise discretion when discuss',\n",
              " 'cretion when discussing company matters on public forums or social media.\\nHarassment and Inappropriate Content: Internet and email usage must not involve harassment, discrimination, or the distributio',\n",
              " ', or the distribution of offensive or inappropriate content. Show respect and sensitivity to others in all online communications.\\nCompliance: Ensure compliance with all relevant laws and regulations r',\n",
              " 'ws and regulations regarding internet and email usage, including those related to copyright and data protection.\\nMonitoring: The company retains the right to monitor internet and email usage for secur',\n",
              " 'mail usage for security and compliance purposes.\\nConsequences: Policy violations may lead to disciplinary measures, including potential termination.\\nOur Internet and Email Policy aims to promote safe,',\n",
              " 'ims to promote safe, responsible usage of digital communication tools that align with our values and legal obligations. Each employee is expected to understand and follow this policy. Regular reviews',\n",
              " 'cy. Regular reviews ensure its alignment with evolving technology and security standards.\\n\\n4.\\tMobile Phone Policy\\n\\nThe Mobile Phone Policy sets forth the standards and expectations governing the appro',\n",
              " 'governing the appropriate and responsible usage of mobile devices in the organization. The purpose of this policy is to ensure that employees utilize mobile phones in a manner consistent with company',\n",
              " 'sistent with company values and legal compliance.\\nAcceptable Use: Mobile devices are primarily intended for work-related tasks. Limited personal usage is allowed, provided it does not disrupt work obl',\n",
              " 'not disrupt work obligations.\\nSecurity: Safeguard your mobile device and access credentials. Exercise caution when downloading apps or clicking links from unfamiliar sources. Promptly report security',\n",
              " 'tly report security concerns or suspicious activities related to your mobile device.\\nConfidentiality: Avoid transmitting sensitive company information via unsecured messaging apps or emails. Be discre',\n",
              " 'or emails. Be discreet when discussing company matters in public spaces.\\nCost Management: Keep personal phone usage separate from company accounts and reimburse the company for any personal charges on',\n",
              " 'personal charges on company-issued phones.\\nCompliance: Adhere to all pertinent laws and regulations concerning mobile phone usage, including those related to data protection and privacy.\\nLost or Stol',\n",
              " 'rivacy.\\nLost or Stolen Devices: Immediately report any lost or stolen mobile devices to the IT department or your supervisor.\\nConsequences: Non-compliance with this policy may lead to disciplinary act',\n",
              " 'to disciplinary actions, including the potential loss of mobile phone privileges.\\nThe Mobile Phone Policy is aimed at promoting the responsible and secure use of mobile devices in line with legal and',\n",
              " 'line with legal and ethical standards. Every employee is expected to comprehend and abide by these guidelines. Regular reviews of the policy ensure its ongoing alignment with evolving technology and',\n",
              " 'ving technology and security best practices.\\n\\n5.\\tSmoking Policy\\n\\nPolicy Purpose: The Smoking Policy has been established to provide clear guidance and expectations concerning smoking on company premis',\n",
              " 'ng on company premises. This policy is in place to ensure a safe and healthy environment for all employees, visitors, and the general public.\\nDesignated Smoking Areas: Smoking is only permitted in des',\n",
              " 'nly permitted in designated smoking areas, as marked by appropriate signage. These areas have been chosen to minimize exposure to secondhand smoke and to maintain the overall cleanliness of the premis',\n",
              " 'liness of the premises.\\nSmoking Restrictions: Smoking inside company buildings, offices, meeting rooms, and other enclosed spaces is strictly prohibited. This includes electronic cigarettes and vaping',\n",
              " 'igarettes and vaping devices.\\nCompliance with Applicable Laws: All employees and visitors must adhere to relevant federal, state, and local smoking laws and regulations.\\nDisposal of Smoking Materials:',\n",
              " 'f Smoking Materials: Properly dispose of cigarette butts and related materials in designated receptacles. Littering on company premises is prohibited.\\nNo Smoking in Company Vehicles: Smoking is not pe',\n",
              " 's: Smoking is not permitted in company vehicles, whether they are owned or leased, to maintain the condition and cleanliness of these vehicles.\\nEnforcement and Consequences: All employees and visitors',\n",
              " 'ployees and visitors are expected to adhere to this policy. Non-compliance may lead to appropriate disciplinary action, which could include fines, or, in the case of employees, possible termination of',\n",
              " 'sible termination of employment.\\nReview of Policy: This policy will be reviewed periodically to ensure its alignment with evolving legal requirements and best practices for maintaining a healthy and s',\n",
              " 'ning a healthy and safe workplace.\\nWe appreciate your cooperation in maintaining a smoke-free and safe environment for all.\\n\\n6.\\tDrug and Alcohol Policy\\n\\nPolicy Objective: The Drug and Alcohol Policy i',\n",
              " 'and Alcohol Policy is established to establish clear expectations and guidelines for the responsible use of drugs and alcohol within the organization. This policy aims to maintain a safe, healthy, and',\n",
              " 'a safe, healthy, and productive workplace.\\nProhibited Substances: The use, possession, distribution, or sale of illegal drugs or unauthorized controlled substances is strictly prohibited on company pr',\n",
              " 'ibited on company premises or during work-related activities. This includes the misuse of prescription drugs.\\nAlcohol Consumption: The consumption of alcoholic beverages is not allowed during work hou',\n",
              " 'owed during work hours, on company property, or while performing company-related duties. Exception may be made for company-sanctioned events.\\nImpairment: Employees are expected to perform their job du',\n",
              " 'perform their job duties without impairment from drugs or alcohol. The use of substances that could impair job performance or pose a safety risk is prohibited.\\nTesting and Searches: The organization r',\n",
              " ': The organization reserves the right to conduct drug and alcohol testing as per applicable laws and regulations. Employees may be subject to testing in cases of reasonable suspicion, post-accident, o',\n",
              " 'on, post-accident, or as part of routine workplace safety measures.\\nReporting: Employees should report any concerns related to drug or alcohol misuse by themselves or their colleagues, as well as safe',\n",
              " 'ues, as well as safety concerns arising from such misuse.\\nTreatment and Assistance: Employees with substance abuse issues are encouraged to seek help. The organization is committed to providing suppor',\n",
              " 'to providing support, resources, and information to assist those seeking treatment.\\nConsequences: Violation of this policy may result in disciplinary actions, up to and including termination of emplo',\n",
              " 'termination of employment. Legal action may also be pursued when necessary.\\nPolicy Review: This policy will undergo periodic review to ensure its continued relevance and compliance with evolving legal',\n",
              " 'with evolving legal requirements and best practices for a safe and productive work environment.\\nYour adherence to this policy is appreciated as it helps to maintain a safe and drug-free workplace for',\n",
              " 'g-free workplace for all.\\n\\n7.\\tHealth and Safety Policy\\n\\nOur commitment to health and safety is paramount. We prioritize the well-being of our employees, customers, and the public. We diligently comply',\n",
              " 'We diligently comply with all relevant health and safety laws and regulations. Our objective is to maintain a workplace free from hazards, preventing accidents, injuries, and illnesses. Every individu',\n",
              " 'sses. Every individual within our organization is responsible for upholding these standards. We regularly assess and improve our safety measures, provide adequate training, and encourage open communic',\n",
              " 'ourage open communication regarding safety concerns. Through collective dedication, we aim to ensure a safe, healthy, and secure environment for all. Your cooperation is essential in achieving this co',\n",
              " 'in achieving this common goal.\\n\\n8.\\tAnti-discrimination and Harassment Policy\\n\\nThe Anti-Discrimination and Harassment Policy is a testament to the commitment of this organization in fostering a workpla',\n",
              " 'fostering a workplace that is free from discrimination, harassment, and any form of unlawful bias. This policy applies to every individual within the organization, including employees, contractors, v',\n",
              " 'yees, contractors, visitors, and clients.\\nNon-Discrimination: This organization strictly prohibits discrimination based on race, color, religion, gender, national origin, age, disability, sexual orien',\n",
              " 'bility, sexual orientation, or any other legally protected characteristic in all aspects of employment, including recruitment, hiring, compensation, benefits, promotions, and terminations.\\nHarassment:',\n",
              " 'nations.\\nHarassment: Harassment in any form, whether based on the aforementioned characteristics or any other protected status, is unacceptable. This encompasses unwelcome advances, offensive jokes, s',\n",
              " ', offensive jokes, slurs, and other verbal or physical conduct that creates a hostile or intimidating work environment.\\nReporting: Individuals who experience or witness any form of discrimination or h',\n",
              " 'discrimination or harassment are encouraged to promptly report the incident to their supervisor, manager, or the designated HR representative. The organization is committed to a timely and confidenti',\n",
              " 'imely and confidential investigation of such complaints.\\nConsequences: Violation of this policy may result in disciplinary action, including termination of employment. The organization is committed to',\n",
              " 'tion is committed to taking appropriate action against any individual found to be in violation of this policy.\\nReview and Update: This policy is subject to regular review and update to remain aligned',\n",
              " 'e to remain aligned with evolving legal requirements and best practices in preventing discrimination and harassment. This organization considers it a collective responsibility to ensure a workplace fr',\n",
              " 'nsure a workplace free from discrimination and harassment, and it is essential that every individual within the organization plays their part in upholding these principles.\\n\\n9.\\tDiscipline and Terminat',\n",
              " \"cipline and Termination Policy\\n\\nThe Discipline and Termination Policy underscores the organization's commitment to maintaining a productive, ethical, and respectful work environment. This policy appli\",\n",
              " 't. This policy applies to all personnel, including employees, contractors, and temporary staff.\\nPerformance and Conduct Expectations: Employees are expected to meet performance standards and adhere to',\n",
              " 'ndards and adhere to conduct guidelines. The organization will provide clear expectations, feedback, and opportunities for improvement when performance or conduct issues arise.\\nDisciplinary Actions: W',\n",
              " 'ciplinary Actions: When necessary, disciplinary actions will be taken, which may include verbal warnings, written warnings, suspension, or other appropriate measures. Disciplinary actions are designed',\n",
              " \"actions are designed to address issues constructively and maintain performance standards.\\nTermination: In situations where an employee's performance or conduct issues persist, the organization may res\",\n",
              " 'organization may resort to termination. Termination may also occur for reasons such as redundancy, violation of policies, or restructuring.\\nTermination Procedure: The organization will follow appropri',\n",
              " 'will follow appropriate procedures, ensuring fairness and adherence to legal requirements during the termination process. Employees may be eligible for notice periods, severance pay, or other benefits',\n",
              " 'y, or other benefits as per employment agreements and applicable laws.\\nExit Process: The organization will conduct an exit process to ensure a smooth transition for departing employees, including the',\n",
              " 'yees, including the return of company property, final pay, and cancellation of access and benefits.\\nThis policy serves as a framework for handling discipline and termination. The organization recogniz',\n",
              " 'rganization recognizes the importance of fairness and consistency in these processes, and decisions will be made after careful consideration. Every employee is expected to understand and adhere to thi',\n",
              " 'nd and adhere to this policy, contributing to a respectful and productive workplace. Regular reviews will ensure its alignment with evolving legal requirements and best practices.']"
            ]
          },
          "metadata": {},
          "execution_count": 7
        }
      ]
    },
    {
      "cell_type": "markdown",
      "source": [
        "After the split, you'll see that the document has been divided into multiple chunks, with some character overlaps between the chunks.\n",
        "\n",
        "You can see how many chunks you get.\n"
      ],
      "metadata": {
        "id": "eMtC4jd8d-OK"
      },
      "id": "eMtC4jd8d-OK"
    },
    {
      "cell_type": "code",
      "source": [
        "len(texts)"
      ],
      "metadata": {
        "colab": {
          "base_uri": "https://localhost:8080/"
        },
        "id": "SW7-h6Ukd9sT",
        "outputId": "42ddb2c0-5022-4776-9b5c-38cc3d0e1b36"
      },
      "id": "SW7-h6Ukd9sT",
      "execution_count": 8,
      "outputs": [
        {
          "output_type": "execute_result",
          "data": {
            "text/plain": [
              "87"
            ]
          },
          "metadata": {},
          "execution_count": 8
        }
      ]
    },
    {
      "cell_type": "markdown",
      "source": [
        " got `87` chunks.\n"
      ],
      "metadata": {
        "id": "oO8vHvKueZ0X"
      },
      "id": "oO8vHvKueZ0X"
    },
    {
      "cell_type": "markdown",
      "source": [
        "You can also use the following code to add metadata to the text, forming it into a `document` object using LangChain.\n"
      ],
      "metadata": {
        "id": "eABQrAjNedS4"
      },
      "id": "eABQrAjNedS4"
    },
    {
      "cell_type": "code",
      "source": [
        "companypolicies"
      ],
      "metadata": {
        "id": "3kAxPKueho09",
        "outputId": "e2da232b-772c-422d-b7ee-a63f664ee768",
        "colab": {
          "base_uri": "https://localhost:8080/",
          "height": 140
        }
      },
      "id": "3kAxPKueho09",
      "execution_count": 10,
      "outputs": [
        {
          "output_type": "execute_result",
          "data": {
            "text/plain": [
              "\"1.\\tCode of Conduct\\n\\nOur Code of Conduct outlines the fundamental principles and ethical standards that guide every member of our organization. We are committed to maintaining a workplace that is built on integrity, respect, and accountability.\\nIntegrity: We hold ourselves to the highest ethical standards. This means acting honestly and transparently in all our interactions, whether with colleagues, clients, or the broader community. We respect and protect sensitive information, and we avoid conflicts of interest.\\nRespect: We embrace diversity and value each individual's contributions. Discrimination, harassment, or any form of disrespectful behavior is unacceptable. We create an inclusive environment where differences are celebrated and everyone is treated with dignity and courtesy.\\nAccountability: We take responsibility for our actions and decisions. We follow all relevant laws and regulations, and we strive to continuously improve our practices. We report any potential violations of this code and support the investigation of such matters.\\nSafety: We prioritize the safety of our employees, clients, and the communities we serve. We maintain a culture of safety, including reporting any unsafe conditions or practices.\\nEnvironmental Responsibility: We are committed to minimizing our environmental footprint and promoting sustainable practices.\\nOur Code of Conduct is not just a set of rules; it is the foundation of our organization's culture. We expect all employees to uphold these principles and serve as role models for others, ensuring we maintain our reputation for ethical conduct, integrity, and social responsibility.\\n\\n2.\\tRecruitment Policy\\n\\nOur Recruitment Policy reflects our commitment to attracting, selecting, and onboarding the most qualified and diverse candidates to join our organization. We believe that the success of our company relies on the talents, skills, and dedication of our employees.\\nEqual Opportunity: We are an equal opportunity employer and do not discriminate on the basis of race, color, religion, sex, sexual orientation, gender identity, national origin, age, disability, or any other protected status. We actively promote diversity and inclusion.\\nTransparency: We maintain transparency in our recruitment processes. All job vacancies are advertised internally and externally when appropriate. Job descriptions and requirements are clear and accurately represent the role.\\nSelection Criteria: Our selection process is based on the qualifications, experience, and skills necessary for the position. Interviews and assessments are conducted objectively, and decisions are made without bias.\\nData Privacy: We are committed to protecting the privacy of candidates' personal information and adhere to all relevant data protection laws and regulations.\\nFeedback: Candidates will receive timely and constructive feedback on their application and interview performance.\\nOnboarding: New employees receive comprehensive onboarding to help them integrate into the organization effectively. This includes information on our culture, policies, and expectations.\\nEmployee Referrals: We encourage and appreciate employee referrals as they contribute to building a strong and engaged team.\\nOur Recruitment Policy is a foundation for creating a diverse, inclusive, and talented workforce. It ensures that we attract and hire the best candidates who align with our company values and contribute to our continued success. We continuously review and update this policy to reflect evolving best practices in recruitment.\\n\\n3.\\tInternet and Email Policy\\n\\nOur Internet and Email Policy is established to guide the responsible and secure use of these essential tools within our organization. We recognize their significance in daily business operations and the importance of adhering to principles that maintain security, productivity, and legal compliance.\\nAcceptable Use: Company-provided internet and email services are primarily meant for job-related tasks. Limited personal use is allowed during non-work hours, provided it doesn't interfere with work responsibilities.\\nSecurity: Safeguard your login credentials, avoiding the sharing of passwords. Exercise caution with email attachments and links from unknown sources. Promptly report any unusual online activity or potential security breaches.\\nConfidentiality: Reserve email for the transmission of confidential information, trade secrets, and sensitive customer data only when encryption is applied. Exercise discretion when discussing company matters on public forums or social media.\\nHarassment and Inappropriate Content: Internet and email usage must not involve harassment, discrimination, or the distribution of offensive or inappropriate content. Show respect and sensitivity to others in all online communications.\\nCompliance: Ensure compliance with all relevant laws and regulations regarding internet and email usage, including those related to copyright and data protection.\\nMonitoring: The company retains the right to monitor internet and email usage for security and compliance purposes.\\nConsequences: Policy violations may lead to disciplinary measures, including potential termination.\\nOur Internet and Email Policy aims to promote safe, responsible usage of digital communication tools that align with our values and legal obligations. Each employee is expected to understand and follow this policy. Regular reviews ensure its alignment with evolving technology and security standards.\\n\\n4.\\tMobile Phone Policy\\n\\nThe Mobile Phone Policy sets forth the standards and expectations governing the appropriate and responsible usage of mobile devices in the organization. The purpose of this policy is to ensure that employees utilize mobile phones in a manner consistent with company values and legal compliance.\\nAcceptable Use: Mobile devices are primarily intended for work-related tasks. Limited personal usage is allowed, provided it does not disrupt work obligations.\\nSecurity: Safeguard your mobile device and access credentials. Exercise caution when downloading apps or clicking links from unfamiliar sources. Promptly report security concerns or suspicious activities related to your mobile device.\\nConfidentiality: Avoid transmitting sensitive company information via unsecured messaging apps or emails. Be discreet when discussing company matters in public spaces.\\nCost Management: Keep personal phone usage separate from company accounts and reimburse the company for any personal charges on company-issued phones.\\nCompliance: Adhere to all pertinent laws and regulations concerning mobile phone usage, including those related to data protection and privacy.\\nLost or Stolen Devices: Immediately report any lost or stolen mobile devices to the IT department or your supervisor.\\nConsequences: Non-compliance with this policy may lead to disciplinary actions, including the potential loss of mobile phone privileges.\\nThe Mobile Phone Policy is aimed at promoting the responsible and secure use of mobile devices in line with legal and ethical standards. Every employee is expected to comprehend and abide by these guidelines. Regular reviews of the policy ensure its ongoing alignment with evolving technology and security best practices.\\n\\n5.\\tSmoking Policy\\n\\nPolicy Purpose: The Smoking Policy has been established to provide clear guidance and expectations concerning smoking on company premises. This policy is in place to ensure a safe and healthy environment for all employees, visitors, and the general public.\\nDesignated Smoking Areas: Smoking is only permitted in designated smoking areas, as marked by appropriate signage. These areas have been chosen to minimize exposure to secondhand smoke and to maintain the overall cleanliness of the premises.\\nSmoking Restrictions: Smoking inside company buildings, offices, meeting rooms, and other enclosed spaces is strictly prohibited. This includes electronic cigarettes and vaping devices.\\nCompliance with Applicable Laws: All employees and visitors must adhere to relevant federal, state, and local smoking laws and regulations.\\nDisposal of Smoking Materials: Properly dispose of cigarette butts and related materials in designated receptacles. Littering on company premises is prohibited.\\nNo Smoking in Company Vehicles: Smoking is not permitted in company vehicles, whether they are owned or leased, to maintain the condition and cleanliness of these vehicles.\\nEnforcement and Consequences: All employees and visitors are expected to adhere to this policy. Non-compliance may lead to appropriate disciplinary action, which could include fines, or, in the case of employees, possible termination of employment.\\nReview of Policy: This policy will be reviewed periodically to ensure its alignment with evolving legal requirements and best practices for maintaining a healthy and safe workplace.\\nWe appreciate your cooperation in maintaining a smoke-free and safe environment for all.\\n\\n6.\\tDrug and Alcohol Policy\\n\\nPolicy Objective: The Drug and Alcohol Policy is established to establish clear expectations and guidelines for the responsible use of drugs and alcohol within the organization. This policy aims to maintain a safe, healthy, and productive workplace.\\nProhibited Substances: The use, possession, distribution, or sale of illegal drugs or unauthorized controlled substances is strictly prohibited on company premises or during work-related activities. This includes the misuse of prescription drugs.\\nAlcohol Consumption: The consumption of alcoholic beverages is not allowed during work hours, on company property, or while performing company-related duties. Exception may be made for company-sanctioned events.\\nImpairment: Employees are expected to perform their job duties without impairment from drugs or alcohol. The use of substances that could impair job performance or pose a safety risk is prohibited.\\nTesting and Searches: The organization reserves the right to conduct drug and alcohol testing as per applicable laws and regulations. Employees may be subject to testing in cases of reasonable suspicion, post-accident, or as part of routine workplace safety measures.\\nReporting: Employees should report any concerns related to drug or alcohol misuse by themselves or their colleagues, as well as safety concerns arising from such misuse.\\nTreatment and Assistance: Employees with substance abuse issues are encouraged to seek help. The organization is committed to providing support, resources, and information to assist those seeking treatment.\\nConsequences: Violation of this policy may result in disciplinary actions, up to and including termination of employment. Legal action may also be pursued when necessary.\\nPolicy Review: This policy will undergo periodic review to ensure its continued relevance and compliance with evolving legal requirements and best practices for a safe and productive work environment.\\nYour adherence to this policy is appreciated as it helps to maintain a safe and drug-free workplace for all.\\n\\n7.\\tHealth and Safety Policy\\n\\nOur commitment to health and safety is paramount. We prioritize the well-being of our employees, customers, and the public. We diligently comply with all relevant health and safety laws and regulations. Our objective is to maintain a workplace free from hazards, preventing accidents, injuries, and illnesses. Every individual within our organization is responsible for upholding these standards. We regularly assess and improve our safety measures, provide adequate training, and encourage open communication regarding safety concerns. Through collective dedication, we aim to ensure a safe, healthy, and secure environment for all. Your cooperation is essential in achieving this common goal.\\n\\n8.\\tAnti-discrimination and Harassment Policy\\n\\nThe Anti-Discrimination and Harassment Policy is a testament to the commitment of this organization in fostering a workplace that is free from discrimination, harassment, and any form of unlawful bias. This policy applies to every individual within the organization, including employees, contractors, visitors, and clients.\\nNon-Discrimination: This organization strictly prohibits discrimination based on race, color, religion, gender, national origin, age, disability, sexual orientation, or any other legally protected characteristic in all aspects of employment, including recruitment, hiring, compensation, benefits, promotions, and terminations.\\nHarassment: Harassment in any form, whether based on the aforementioned characteristics or any other protected status, is unacceptable. This encompasses unwelcome advances, offensive jokes, slurs, and other verbal or physical conduct that creates a hostile or intimidating work environment.\\nReporting: Individuals who experience or witness any form of discrimination or harassment are encouraged to promptly report the incident to their supervisor, manager, or the designated HR representative. The organization is committed to a timely and confidential investigation of such complaints.\\nConsequences: Violation of this policy may result in disciplinary action, including termination of employment. The organization is committed to taking appropriate action against any individual found to be in violation of this policy.\\nReview and Update: This policy is subject to regular review and update to remain aligned with evolving legal requirements and best practices in preventing discrimination and harassment. This organization considers it a collective responsibility to ensure a workplace free from discrimination and harassment, and it is essential that every individual within the organization plays their part in upholding these principles.\\n\\n9.\\tDiscipline and Termination Policy\\n\\nThe Discipline and Termination Policy underscores the organization's commitment to maintaining a productive, ethical, and respectful work environment. This policy applies to all personnel, including employees, contractors, and temporary staff.\\nPerformance and Conduct Expectations: Employees are expected to meet performance standards and adhere to conduct guidelines. The organization will provide clear expectations, feedback, and opportunities for improvement when performance or conduct issues arise.\\nDisciplinary Actions: When necessary, disciplinary actions will be taken, which may include verbal warnings, written warnings, suspension, or other appropriate measures. Disciplinary actions are designed to address issues constructively and maintain performance standards.\\nTermination: In situations where an employee's performance or conduct issues persist, the organization may resort to termination. Termination may also occur for reasons such as redundancy, violation of policies, or restructuring.\\nTermination Procedure: The organization will follow appropriate procedures, ensuring fairness and adherence to legal requirements during the termination process. Employees may be eligible for notice periods, severance pay, or other benefits as per employment agreements and applicable laws.\\nExit Process: The organization will conduct an exit process to ensure a smooth transition for departing employees, including the return of company property, final pay, and cancellation of access and benefits.\\nThis policy serves as a framework for handling discipline and termination. The organization recognizes the importance of fairness and consistency in these processes, and decisions will be made after careful consideration. Every employee is expected to understand and adhere to this policy, contributing to a respectful and productive workplace. Regular reviews will ensure its alignment with evolving legal requirements and best practices.\\n\""
            ],
            "application/vnd.google.colaboratory.intrinsic+json": {
              "type": "string"
            }
          },
          "metadata": {},
          "execution_count": 10
        }
      ]
    },
    {
      "cell_type": "code",
      "source": [
        "texts = text_splitter.create_documents([companypolicies], metadatas=[{\"document\":\"Company Policies\"}])  # pass the metadata as well"
      ],
      "metadata": {
        "id": "mO5dLcqbeb1A"
      },
      "id": "mO5dLcqbeb1A",
      "execution_count": 9,
      "outputs": []
    },
    {
      "cell_type": "code",
      "source": [
        "texts[1]"
      ],
      "metadata": {
        "id": "JNZTi8DjjHVE",
        "outputId": "f15f38e0-c9d3-4017-8516-3a206971eb11",
        "colab": {
          "base_uri": "https://localhost:8080/"
        }
      },
      "id": "JNZTi8DjjHVE",
      "execution_count": 12,
      "outputs": [
        {
          "output_type": "execute_result",
          "data": {
            "text/plain": [
              "Document(metadata={'document': 'Company Policies'}, page_content='kplace that is built on integrity, respect, and accountability.\\nIntegrity: We hold ourselves to the highest ethical standards. This means acting honestly and transparently in all our interactions, whe')"
            ]
          },
          "metadata": {},
          "execution_count": 12
        }
      ]
    },
    {
      "cell_type": "markdown",
      "source": [
        "### Recursively Split by Character\n",
        "\n",
        "This text splitter is the recommended one for generic text. It is parameterized by a list of characters, and it tries to split on them in order until the chunks are small enough. The default list is `[\"\\n\\n\", \"\\n\", \" \", \"\"]`.\n",
        "\n",
        "It processes the large text by attempting to split it by the first character, `\\n\\n`. If the first split by \\n\\n results in chunks that are still too large, it moves to the next character, `\\n`, and attempts to split by it. This process continues through the list of characters until the chunks are less than the specified chunk size.\n",
        "\n",
        "This method aims to keep all paragraphs (then sentences, then words) together as much as possible, as these are generally the most semantically related pieces of text.\n",
        "\n",
        "- **How the text is split**: by list of characters.\n",
        "- **How the chunk size is measured**: by number of characters.\n",
        "\n",
        "The `RecursiveCharacterTextSplitter` class from LangChain is used to implement it.\n",
        "- You use the default separator list, which is `[\"\\n\\n\", \"\\n\", \" \", \"\"]`.\n",
        "- Chunk size is set to `100`.\n",
        "- Chunk overlap is set to `20`.\n",
        "- And the length function is `len`.\n"
      ],
      "metadata": {
        "id": "gvDOy0LTjMNh"
      },
      "id": "gvDOy0LTjMNh"
    },
    {
      "cell_type": "code",
      "source": [
        "from langchain.text_splitter import RecursiveCharacterTextSplitter\n",
        "text_splitter = RecursiveCharacterTextSplitter(\n",
        "    chunk_size=100,\n",
        "    chunk_overlap=20,\n",
        "    length_function=len,\n",
        ")\n",
        "texts = text_splitter.create_documents([companypolicies])\n",
        "texts"
      ],
      "metadata": {
        "id": "G-BP0x-ijJyD",
        "outputId": "d031afb9-d003-4a61-f9f9-a64a4bdb06fa",
        "colab": {
          "base_uri": "https://localhost:8080/"
        }
      },
      "id": "G-BP0x-ijJyD",
      "execution_count": 13,
      "outputs": [
        {
          "output_type": "execute_result",
          "data": {
            "text/plain": [
              "[Document(metadata={}, page_content='1.\\tCode of Conduct'),\n",
              " Document(metadata={}, page_content='Our Code of Conduct outlines the fundamental principles and ethical standards that guide every'),\n",
              " Document(metadata={}, page_content='that guide every member of our organization. We are committed to maintaining a workplace that is'),\n",
              " Document(metadata={}, page_content='a workplace that is built on integrity, respect, and accountability.'),\n",
              " Document(metadata={}, page_content='Integrity: We hold ourselves to the highest ethical standards. This means acting honestly and'),\n",
              " Document(metadata={}, page_content='acting honestly and transparently in all our interactions, whether with colleagues, clients, or the'),\n",
              " Document(metadata={}, page_content='clients, or the broader community. We respect and protect sensitive information, and we avoid'),\n",
              " Document(metadata={}, page_content='and we avoid conflicts of interest.'),\n",
              " Document(metadata={}, page_content=\"Respect: We embrace diversity and value each individual's contributions. Discrimination,\"),\n",
              " Document(metadata={}, page_content='Discrimination, harassment, or any form of disrespectful behavior is unacceptable. We create an'),\n",
              " Document(metadata={}, page_content='We create an inclusive environment where differences are celebrated and everyone is treated with'),\n",
              " Document(metadata={}, page_content='is treated with dignity and courtesy.'),\n",
              " Document(metadata={}, page_content='Accountability: We take responsibility for our actions and decisions. We follow all relevant laws'),\n",
              " Document(metadata={}, page_content='all relevant laws and regulations, and we strive to continuously improve our practices. We report'),\n",
              " Document(metadata={}, page_content='We report any potential violations of this code and support the investigation of such matters.'),\n",
              " Document(metadata={}, page_content='Safety: We prioritize the safety of our employees, clients, and the communities we serve. We'),\n",
              " Document(metadata={}, page_content='we serve. We maintain a culture of safety, including reporting any unsafe conditions or practices.'),\n",
              " Document(metadata={}, page_content='Environmental Responsibility: We are committed to minimizing our environmental footprint and'),\n",
              " Document(metadata={}, page_content='footprint and promoting sustainable practices.'),\n",
              " Document(metadata={}, page_content=\"Our Code of Conduct is not just a set of rules; it is the foundation of our organization's culture.\"),\n",
              " Document(metadata={}, page_content='culture. We expect all employees to uphold these principles and serve as role models for others,'),\n",
              " Document(metadata={}, page_content='models for others, ensuring we maintain our reputation for ethical conduct, integrity, and social'),\n",
              " Document(metadata={}, page_content='and social responsibility.'),\n",
              " Document(metadata={}, page_content='2.\\tRecruitment Policy'),\n",
              " Document(metadata={}, page_content='Our Recruitment Policy reflects our commitment to attracting, selecting, and onboarding the most'),\n",
              " Document(metadata={}, page_content='onboarding the most qualified and diverse candidates to join our organization. We believe that the'),\n",
              " Document(metadata={}, page_content='We believe that the success of our company relies on the talents, skills, and dedication of our'),\n",
              " Document(metadata={}, page_content='dedication of our employees.'),\n",
              " Document(metadata={}, page_content='Equal Opportunity: We are an equal opportunity employer and do not discriminate on the basis of'),\n",
              " Document(metadata={}, page_content='on the basis of race, color, religion, sex, sexual orientation, gender identity, national origin,'),\n",
              " Document(metadata={}, page_content='national origin, age, disability, or any other protected status. We actively promote diversity and'),\n",
              " Document(metadata={}, page_content='diversity and inclusion.'),\n",
              " Document(metadata={}, page_content='Transparency: We maintain transparency in our recruitment processes. All job vacancies are'),\n",
              " Document(metadata={}, page_content='job vacancies are advertised internally and externally when appropriate. Job descriptions and'),\n",
              " Document(metadata={}, page_content='descriptions and requirements are clear and accurately represent the role.'),\n",
              " Document(metadata={}, page_content='Selection Criteria: Our selection process is based on the qualifications, experience, and skills'),\n",
              " Document(metadata={}, page_content='and skills necessary for the position. Interviews and assessments are conducted objectively, and'),\n",
              " Document(metadata={}, page_content='objectively, and decisions are made without bias.'),\n",
              " Document(metadata={}, page_content=\"Data Privacy: We are committed to protecting the privacy of candidates' personal information and\"),\n",
              " Document(metadata={}, page_content='information and adhere to all relevant data protection laws and regulations.'),\n",
              " Document(metadata={}, page_content='Feedback: Candidates will receive timely and constructive feedback on their application and'),\n",
              " Document(metadata={}, page_content='application and interview performance.'),\n",
              " Document(metadata={}, page_content='Onboarding: New employees receive comprehensive onboarding to help them integrate into the'),\n",
              " Document(metadata={}, page_content='integrate into the organization effectively. This includes information on our culture, policies,'),\n",
              " Document(metadata={}, page_content='culture, policies, and expectations.'),\n",
              " Document(metadata={}, page_content='Employee Referrals: We encourage and appreciate employee referrals as they contribute to building a'),\n",
              " Document(metadata={}, page_content='to building a strong and engaged team.'),\n",
              " Document(metadata={}, page_content='Our Recruitment Policy is a foundation for creating a diverse, inclusive, and talented workforce.'),\n",
              " Document(metadata={}, page_content='talented workforce. It ensures that we attract and hire the best candidates who align with our'),\n",
              " Document(metadata={}, page_content='who align with our company values and contribute to our continued success. We continuously review'),\n",
              " Document(metadata={}, page_content='continuously review and update this policy to reflect evolving best practices in recruitment.'),\n",
              " Document(metadata={}, page_content='3.\\tInternet and Email Policy'),\n",
              " Document(metadata={}, page_content='Our Internet and Email Policy is established to guide the responsible and secure use of these'),\n",
              " Document(metadata={}, page_content='secure use of these essential tools within our organization. We recognize their significance in'),\n",
              " Document(metadata={}, page_content='significance in daily business operations and the importance of adhering to principles that'),\n",
              " Document(metadata={}, page_content='to principles that maintain security, productivity, and legal compliance.'),\n",
              " Document(metadata={}, page_content='Acceptable Use: Company-provided internet and email services are primarily meant for job-related'),\n",
              " Document(metadata={}, page_content=\"for job-related tasks. Limited personal use is allowed during non-work hours, provided it doesn't\"),\n",
              " Document(metadata={}, page_content=\"provided it doesn't interfere with work responsibilities.\"),\n",
              " Document(metadata={}, page_content='Security: Safeguard your login credentials, avoiding the sharing of passwords. Exercise caution'),\n",
              " Document(metadata={}, page_content='Exercise caution with email attachments and links from unknown sources. Promptly report any unusual'),\n",
              " Document(metadata={}, page_content='report any unusual online activity or potential security breaches.'),\n",
              " Document(metadata={}, page_content='Confidentiality: Reserve email for the transmission of confidential information, trade secrets, and'),\n",
              " Document(metadata={}, page_content='trade secrets, and sensitive customer data only when encryption is applied. Exercise discretion'),\n",
              " Document(metadata={}, page_content='Exercise discretion when discussing company matters on public forums or social media.'),\n",
              " Document(metadata={}, page_content='Harassment and Inappropriate Content: Internet and email usage must not involve harassment,'),\n",
              " Document(metadata={}, page_content='involve harassment, discrimination, or the distribution of offensive or inappropriate content. Show'),\n",
              " Document(metadata={}, page_content='content. Show respect and sensitivity to others in all online communications.'),\n",
              " Document(metadata={}, page_content='Compliance: Ensure compliance with all relevant laws and regulations regarding internet and email'),\n",
              " Document(metadata={}, page_content='internet and email usage, including those related to copyright and data protection.'),\n",
              " Document(metadata={}, page_content='Monitoring: The company retains the right to monitor internet and email usage for security and'),\n",
              " Document(metadata={}, page_content='for security and compliance purposes.'),\n",
              " Document(metadata={}, page_content='Consequences: Policy violations may lead to disciplinary measures, including potential termination.'),\n",
              " Document(metadata={}, page_content='Our Internet and Email Policy aims to promote safe, responsible usage of digital communication'),\n",
              " Document(metadata={}, page_content='communication tools that align with our values and legal obligations. Each employee is expected to'),\n",
              " Document(metadata={}, page_content='is expected to understand and follow this policy. Regular reviews ensure its alignment with'),\n",
              " Document(metadata={}, page_content='its alignment with evolving technology and security standards.'),\n",
              " Document(metadata={}, page_content='4.\\tMobile Phone Policy'),\n",
              " Document(metadata={}, page_content='The Mobile Phone Policy sets forth the standards and expectations governing the appropriate and'),\n",
              " Document(metadata={}, page_content='the appropriate and responsible usage of mobile devices in the organization. The purpose of this'),\n",
              " Document(metadata={}, page_content='The purpose of this policy is to ensure that employees utilize mobile phones in a manner consistent'),\n",
              " Document(metadata={}, page_content='a manner consistent with company values and legal compliance.'),\n",
              " Document(metadata={}, page_content='Acceptable Use: Mobile devices are primarily intended for work-related tasks. Limited personal'),\n",
              " Document(metadata={}, page_content='Limited personal usage is allowed, provided it does not disrupt work obligations.'),\n",
              " Document(metadata={}, page_content='Security: Safeguard your mobile device and access credentials. Exercise caution when downloading'),\n",
              " Document(metadata={}, page_content='when downloading apps or clicking links from unfamiliar sources. Promptly report security concerns'),\n",
              " Document(metadata={}, page_content='security concerns or suspicious activities related to your mobile device.'),\n",
              " Document(metadata={}, page_content='Confidentiality: Avoid transmitting sensitive company information via unsecured messaging apps or'),\n",
              " Document(metadata={}, page_content='messaging apps or emails. Be discreet when discussing company matters in public spaces.'),\n",
              " Document(metadata={}, page_content='Cost Management: Keep personal phone usage separate from company accounts and reimburse the company'),\n",
              " Document(metadata={}, page_content='the company for any personal charges on company-issued phones.'),\n",
              " Document(metadata={}, page_content='Compliance: Adhere to all pertinent laws and regulations concerning mobile phone usage, including'),\n",
              " Document(metadata={}, page_content='usage, including those related to data protection and privacy.'),\n",
              " Document(metadata={}, page_content='Lost or Stolen Devices: Immediately report any lost or stolen mobile devices to the IT department'),\n",
              " Document(metadata={}, page_content='the IT department or your supervisor.'),\n",
              " Document(metadata={}, page_content='Consequences: Non-compliance with this policy may lead to disciplinary actions, including the'),\n",
              " Document(metadata={}, page_content='including the potential loss of mobile phone privileges.'),\n",
              " Document(metadata={}, page_content='The Mobile Phone Policy is aimed at promoting the responsible and secure use of mobile devices in'),\n",
              " Document(metadata={}, page_content='mobile devices in line with legal and ethical standards. Every employee is expected to comprehend'),\n",
              " Document(metadata={}, page_content='to comprehend and abide by these guidelines. Regular reviews of the policy ensure its ongoing'),\n",
              " Document(metadata={}, page_content='ensure its ongoing alignment with evolving technology and security best practices.'),\n",
              " Document(metadata={}, page_content='5.\\tSmoking Policy'),\n",
              " Document(metadata={}, page_content='Policy Purpose: The Smoking Policy has been established to provide clear guidance and expectations'),\n",
              " Document(metadata={}, page_content='and expectations concerning smoking on company premises. This policy is in place to ensure a safe'),\n",
              " Document(metadata={}, page_content='to ensure a safe and healthy environment for all employees, visitors, and the general public.'),\n",
              " Document(metadata={}, page_content='Designated Smoking Areas: Smoking is only permitted in designated smoking areas, as marked by'),\n",
              " Document(metadata={}, page_content='areas, as marked by appropriate signage. These areas have been chosen to minimize exposure to'),\n",
              " Document(metadata={}, page_content='exposure to secondhand smoke and to maintain the overall cleanliness of the premises.'),\n",
              " Document(metadata={}, page_content='Smoking Restrictions: Smoking inside company buildings, offices, meeting rooms, and other enclosed'),\n",
              " Document(metadata={}, page_content='and other enclosed spaces is strictly prohibited. This includes electronic cigarettes and vaping'),\n",
              " Document(metadata={}, page_content='and vaping devices.'),\n",
              " Document(metadata={}, page_content='Compliance with Applicable Laws: All employees and visitors must adhere to relevant federal, state,'),\n",
              " Document(metadata={}, page_content='federal, state, and local smoking laws and regulations.'),\n",
              " Document(metadata={}, page_content='Disposal of Smoking Materials: Properly dispose of cigarette butts and related materials in'),\n",
              " Document(metadata={}, page_content='materials in designated receptacles. Littering on company premises is prohibited.'),\n",
              " Document(metadata={}, page_content='No Smoking in Company Vehicles: Smoking is not permitted in company vehicles, whether they are'),\n",
              " Document(metadata={}, page_content='whether they are owned or leased, to maintain the condition and cleanliness of these vehicles.'),\n",
              " Document(metadata={}, page_content='Enforcement and Consequences: All employees and visitors are expected to adhere to this policy.'),\n",
              " Document(metadata={}, page_content='to this policy. Non-compliance may lead to appropriate disciplinary action, which could include'),\n",
              " Document(metadata={}, page_content='which could include fines, or, in the case of employees, possible termination of employment.'),\n",
              " Document(metadata={}, page_content='Review of Policy: This policy will be reviewed periodically to ensure its alignment with evolving'),\n",
              " Document(metadata={}, page_content='with evolving legal requirements and best practices for maintaining a healthy and safe workplace.'),\n",
              " Document(metadata={}, page_content='We appreciate your cooperation in maintaining a smoke-free and safe environment for all.'),\n",
              " Document(metadata={}, page_content='6.\\tDrug and Alcohol Policy'),\n",
              " Document(metadata={}, page_content='Policy Objective: The Drug and Alcohol Policy is established to establish clear expectations and'),\n",
              " Document(metadata={}, page_content='expectations and guidelines for the responsible use of drugs and alcohol within the organization.'),\n",
              " Document(metadata={}, page_content='the organization. This policy aims to maintain a safe, healthy, and productive workplace.'),\n",
              " Document(metadata={}, page_content='Prohibited Substances: The use, possession, distribution, or sale of illegal drugs or unauthorized'),\n",
              " Document(metadata={}, page_content='or unauthorized controlled substances is strictly prohibited on company premises or during'),\n",
              " Document(metadata={}, page_content='premises or during work-related activities. This includes the misuse of prescription drugs.'),\n",
              " Document(metadata={}, page_content='Alcohol Consumption: The consumption of alcoholic beverages is not allowed during work hours, on'),\n",
              " Document(metadata={}, page_content='work hours, on company property, or while performing company-related duties. Exception may be made'),\n",
              " Document(metadata={}, page_content='may be made for company-sanctioned events.'),\n",
              " Document(metadata={}, page_content='Impairment: Employees are expected to perform their job duties without impairment from drugs or'),\n",
              " Document(metadata={}, page_content='from drugs or alcohol. The use of substances that could impair job performance or pose a safety'),\n",
              " Document(metadata={}, page_content='or pose a safety risk is prohibited.'),\n",
              " Document(metadata={}, page_content='Testing and Searches: The organization reserves the right to conduct drug and alcohol testing as'),\n",
              " Document(metadata={}, page_content='alcohol testing as per applicable laws and regulations. Employees may be subject to testing in'),\n",
              " Document(metadata={}, page_content='to testing in cases of reasonable suspicion, post-accident, or as part of routine workplace safety'),\n",
              " Document(metadata={}, page_content='workplace safety measures.'),\n",
              " Document(metadata={}, page_content='Reporting: Employees should report any concerns related to drug or alcohol misuse by themselves or'),\n",
              " Document(metadata={}, page_content='by themselves or their colleagues, as well as safety concerns arising from such misuse.'),\n",
              " Document(metadata={}, page_content='Treatment and Assistance: Employees with substance abuse issues are encouraged to seek help. The'),\n",
              " Document(metadata={}, page_content='to seek help. The organization is committed to providing support, resources, and information to'),\n",
              " Document(metadata={}, page_content='and information to assist those seeking treatment.'),\n",
              " Document(metadata={}, page_content='Consequences: Violation of this policy may result in disciplinary actions, up to and including'),\n",
              " Document(metadata={}, page_content='up to and including termination of employment. Legal action may also be pursued when necessary.'),\n",
              " Document(metadata={}, page_content='Policy Review: This policy will undergo periodic review to ensure its continued relevance and'),\n",
              " Document(metadata={}, page_content='relevance and compliance with evolving legal requirements and best practices for a safe and'),\n",
              " Document(metadata={}, page_content='for a safe and productive work environment.'),\n",
              " Document(metadata={}, page_content='Your adherence to this policy is appreciated as it helps to maintain a safe and drug-free workplace'),\n",
              " Document(metadata={}, page_content='drug-free workplace for all.'),\n",
              " Document(metadata={}, page_content='7.\\tHealth and Safety Policy'),\n",
              " Document(metadata={}, page_content='Our commitment to health and safety is paramount. We prioritize the well-being of our employees,'),\n",
              " Document(metadata={}, page_content='of our employees, customers, and the public. We diligently comply with all relevant health and'),\n",
              " Document(metadata={}, page_content='relevant health and safety laws and regulations. Our objective is to maintain a workplace free from'),\n",
              " Document(metadata={}, page_content='workplace free from hazards, preventing accidents, injuries, and illnesses. Every individual within'),\n",
              " Document(metadata={}, page_content='individual within our organization is responsible for upholding these standards. We regularly'),\n",
              " Document(metadata={}, page_content='We regularly assess and improve our safety measures, provide adequate training, and encourage open'),\n",
              " Document(metadata={}, page_content='and encourage open communication regarding safety concerns. Through collective dedication, we aim'),\n",
              " Document(metadata={}, page_content='dedication, we aim to ensure a safe, healthy, and secure environment for all. Your cooperation is'),\n",
              " Document(metadata={}, page_content='Your cooperation is essential in achieving this common goal.'),\n",
              " Document(metadata={}, page_content='8.\\tAnti-discrimination and Harassment Policy'),\n",
              " Document(metadata={}, page_content='The Anti-Discrimination and Harassment Policy is a testament to the commitment of this organization'),\n",
              " Document(metadata={}, page_content='this organization in fostering a workplace that is free from discrimination, harassment, and any'),\n",
              " Document(metadata={}, page_content='harassment, and any form of unlawful bias. This policy applies to every individual within the'),\n",
              " Document(metadata={}, page_content='within the organization, including employees, contractors, visitors, and clients.'),\n",
              " Document(metadata={}, page_content='Non-Discrimination: This organization strictly prohibits discrimination based on race, color,'),\n",
              " Document(metadata={}, page_content='on race, color, religion, gender, national origin, age, disability, sexual orientation, or any'),\n",
              " Document(metadata={}, page_content='orientation, or any other legally protected characteristic in all aspects of employment, including'),\n",
              " Document(metadata={}, page_content='including recruitment, hiring, compensation, benefits, promotions, and terminations.'),\n",
              " Document(metadata={}, page_content='Harassment: Harassment in any form, whether based on the aforementioned characteristics or any'),\n",
              " Document(metadata={}, page_content='or any other protected status, is unacceptable. This encompasses unwelcome advances, offensive'),\n",
              " Document(metadata={}, page_content='advances, offensive jokes, slurs, and other verbal or physical conduct that creates a hostile or'),\n",
              " Document(metadata={}, page_content='a hostile or intimidating work environment.'),\n",
              " Document(metadata={}, page_content='Reporting: Individuals who experience or witness any form of discrimination or harassment are'),\n",
              " Document(metadata={}, page_content='or harassment are encouraged to promptly report the incident to their supervisor, manager, or the'),\n",
              " Document(metadata={}, page_content='manager, or the designated HR representative. The organization is committed to a timely and'),\n",
              " Document(metadata={}, page_content='to a timely and confidential investigation of such complaints.'),\n",
              " Document(metadata={}, page_content='Consequences: Violation of this policy may result in disciplinary action, including termination of'),\n",
              " Document(metadata={}, page_content='termination of employment. The organization is committed to taking appropriate action against any'),\n",
              " Document(metadata={}, page_content='action against any individual found to be in violation of this policy.'),\n",
              " Document(metadata={}, page_content='Review and Update: This policy is subject to regular review and update to remain aligned with'),\n",
              " Document(metadata={}, page_content='remain aligned with evolving legal requirements and best practices in preventing discrimination and'),\n",
              " Document(metadata={}, page_content='discrimination and harassment. This organization considers it a collective responsibility to ensure'),\n",
              " Document(metadata={}, page_content='to ensure a workplace free from discrimination and harassment, and it is essential that every'),\n",
              " Document(metadata={}, page_content='that every individual within the organization plays their part in upholding these principles.'),\n",
              " Document(metadata={}, page_content='9.\\tDiscipline and Termination Policy'),\n",
              " Document(metadata={}, page_content=\"The Discipline and Termination Policy underscores the organization's commitment to maintaining a\"),\n",
              " Document(metadata={}, page_content='to maintaining a productive, ethical, and respectful work environment. This policy applies to all'),\n",
              " Document(metadata={}, page_content='applies to all personnel, including employees, contractors, and temporary staff.'),\n",
              " Document(metadata={}, page_content='Performance and Conduct Expectations: Employees are expected to meet performance standards and'),\n",
              " Document(metadata={}, page_content='standards and adhere to conduct guidelines. The organization will provide clear expectations,'),\n",
              " Document(metadata={}, page_content='clear expectations, feedback, and opportunities for improvement when performance or conduct issues'),\n",
              " Document(metadata={}, page_content='or conduct issues arise.'),\n",
              " Document(metadata={}, page_content='Disciplinary Actions: When necessary, disciplinary actions will be taken, which may include verbal'),\n",
              " Document(metadata={}, page_content='may include verbal warnings, written warnings, suspension, or other appropriate measures.'),\n",
              " Document(metadata={}, page_content='measures. Disciplinary actions are designed to address issues constructively and maintain'),\n",
              " Document(metadata={}, page_content='and maintain performance standards.'),\n",
              " Document(metadata={}, page_content=\"Termination: In situations where an employee's performance or conduct issues persist, the\"),\n",
              " Document(metadata={}, page_content='issues persist, the organization may resort to termination. Termination may also occur for reasons'),\n",
              " Document(metadata={}, page_content='occur for reasons such as redundancy, violation of policies, or restructuring.'),\n",
              " Document(metadata={}, page_content='Termination Procedure: The organization will follow appropriate procedures, ensuring fairness and'),\n",
              " Document(metadata={}, page_content='fairness and adherence to legal requirements during the termination process. Employees may be'),\n",
              " Document(metadata={}, page_content='Employees may be eligible for notice periods, severance pay, or other benefits as per employment'),\n",
              " Document(metadata={}, page_content='as per employment agreements and applicable laws.'),\n",
              " Document(metadata={}, page_content='Exit Process: The organization will conduct an exit process to ensure a smooth transition for'),\n",
              " Document(metadata={}, page_content='transition for departing employees, including the return of company property, final pay, and'),\n",
              " Document(metadata={}, page_content='final pay, and cancellation of access and benefits.'),\n",
              " Document(metadata={}, page_content='This policy serves as a framework for handling discipline and termination. The organization'),\n",
              " Document(metadata={}, page_content='The organization recognizes the importance of fairness and consistency in these processes, and'),\n",
              " Document(metadata={}, page_content='processes, and decisions will be made after careful consideration. Every employee is expected to'),\n",
              " Document(metadata={}, page_content='is expected to understand and adhere to this policy, contributing to a respectful and productive'),\n",
              " Document(metadata={}, page_content='and productive workplace. Regular reviews will ensure its alignment with evolving legal'),\n",
              " Document(metadata={}, page_content='with evolving legal requirements and best practices.')]"
            ]
          },
          "metadata": {},
          "execution_count": 13
        }
      ]
    },
    {
      "cell_type": "code",
      "source": [
        "len(texts)"
      ],
      "metadata": {
        "id": "2WbJr-D0jdAh",
        "outputId": "8b736e94-3daf-4ac0-9e35-2a9ef8c7ce67",
        "colab": {
          "base_uri": "https://localhost:8080/"
        }
      },
      "id": "2WbJr-D0jdAh",
      "execution_count": 14,
      "outputs": [
        {
          "output_type": "execute_result",
          "data": {
            "text/plain": [
              "215"
            ]
          },
          "metadata": {},
          "execution_count": 14
        }
      ]
    },
    {
      "cell_type": "markdown",
      "source": [
        "215 chunks"
      ],
      "metadata": {
        "id": "2wc405yTjd23"
      },
      "id": "2wc405yTjd23"
    },
    {
      "cell_type": "code",
      "source": [],
      "metadata": {
        "id": "c_UKSEGcjfbb"
      },
      "id": "c_UKSEGcjfbb",
      "execution_count": null,
      "outputs": []
    }
  ],
  "metadata": {
    "kernelspec": {
      "display_name": "Python 3",
      "language": "python",
      "name": "python3"
    },
    "language_info": {
      "codemirror_mode": {
        "name": "ipython",
        "version": 3
      },
      "file_extension": ".py",
      "mimetype": "text/x-python",
      "name": "python",
      "nbconvert_exporter": "python",
      "pygments_lexer": "ipython3",
      "version": "3.12.1"
    },
    "colab": {
      "provenance": []
    }
  },
  "nbformat": 4,
  "nbformat_minor": 5
}