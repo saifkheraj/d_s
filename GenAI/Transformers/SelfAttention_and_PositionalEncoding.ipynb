{
  "cells": [
    {
      "cell_type": "code",
      "execution_count": 26,
      "metadata": {
        "id": "DwCAF_4WnGrm"
      },
      "outputs": [],
      "source": []
    },
    {
      "cell_type": "markdown",
      "metadata": {
        "id": "aM7UEy92nGrn"
      },
      "source": [
        "print(\"hello\")"
      ]
    },
    {
      "cell_type": "code",
      "execution_count": 27,
      "metadata": {
        "id": "ZXCwcSponGrp",
        "outputId": "e7141e58-b0b0-4750-ed58-2fd50dcabbce",
        "colab": {
          "base_uri": "https://localhost:8080/"
        }
      },
      "outputs": [
        {
          "output_type": "stream",
          "name": "stdout",
          "text": [
            "hello\n"
          ]
        }
      ],
      "source": [
        "print(\"hello\")"
      ]
    },
    {
      "cell_type": "markdown",
      "source": [
        "For this lab, let's us the following libraries:\n",
        "\n",
        "- [`torch`](https://pytorch.org/): The core library for building and training neural network models in this project, including the implementation of Self-Attention mechanisms and Positional Encodings.\n",
        "- [`torch.nn`](https://pytorch.org/docs/stable/nn.html), [`torch.nn.functional`](https://pytorch.org/docs/stable/nn.functional.html): These PyTorch submodules are used to define the neural network layers and apply functions such as activations, which are essential in building the model architecture.\n",
        "- [`Levenshtein`](https://pypi.org/project/python-Levenshtein/): This library is used for calculating the Levenshtein distance, which can be useful for evaluating model performance in tasks like text generation or translation by measuring the difference between the predicted and actual text sequences.\n",
        "- [`get_tokenizer`](https://pytorch.org/text/stable/data_utils.html), [`build_vocab_from_iterator`](https://pytorch.org/text/stable/vocab.html) from `torchtext`: These functions are crucial for preprocessing text data, including tokenizing text into words or subwords and building a vocabulary from the dataset, which are foundational steps in preparing data for NLP models.\n"
      ],
      "metadata": {
        "id": "MgR85alqozFB"
      }
    },
    {
      "cell_type": "code",
      "source": [
        "# Install packages\n",
        "! pip install Levenshtein\n",
        "#! pip install matplotlib\n",
        "!pip install torch==2.3.0 torchtext==0.18.0"
      ],
      "metadata": {
        "colab": {
          "base_uri": "https://localhost:8080/"
        },
        "id": "zjExYuO4omC3",
        "outputId": "479111c1-12c5-4e36-c952-fe9ad21fdb9e"
      },
      "execution_count": 28,
      "outputs": [
        {
          "output_type": "stream",
          "name": "stdout",
          "text": [
            "Requirement already satisfied: Levenshtein in /usr/local/lib/python3.11/dist-packages (0.26.1)\n",
            "Requirement already satisfied: rapidfuzz<4.0.0,>=3.9.0 in /usr/local/lib/python3.11/dist-packages (from Levenshtein) (3.11.0)\n",
            "Requirement already satisfied: torch==2.3.0 in /usr/local/lib/python3.11/dist-packages (2.3.0)\n",
            "Requirement already satisfied: torchtext==0.18.0 in /usr/local/lib/python3.11/dist-packages (0.18.0)\n",
            "Requirement already satisfied: filelock in /usr/local/lib/python3.11/dist-packages (from torch==2.3.0) (3.16.1)\n",
            "Requirement already satisfied: typing-extensions>=4.8.0 in /usr/local/lib/python3.11/dist-packages (from torch==2.3.0) (4.12.2)\n",
            "Requirement already satisfied: sympy in /usr/local/lib/python3.11/dist-packages (from torch==2.3.0) (1.13.1)\n",
            "Requirement already satisfied: networkx in /usr/local/lib/python3.11/dist-packages (from torch==2.3.0) (3.4.2)\n",
            "Requirement already satisfied: jinja2 in /usr/local/lib/python3.11/dist-packages (from torch==2.3.0) (3.1.5)\n",
            "Requirement already satisfied: fsspec in /usr/local/lib/python3.11/dist-packages (from torch==2.3.0) (2024.10.0)\n",
            "Requirement already satisfied: nvidia-cuda-nvrtc-cu12==12.1.105 in /usr/local/lib/python3.11/dist-packages (from torch==2.3.0) (12.1.105)\n",
            "Requirement already satisfied: nvidia-cuda-runtime-cu12==12.1.105 in /usr/local/lib/python3.11/dist-packages (from torch==2.3.0) (12.1.105)\n",
            "Requirement already satisfied: nvidia-cuda-cupti-cu12==12.1.105 in /usr/local/lib/python3.11/dist-packages (from torch==2.3.0) (12.1.105)\n",
            "Requirement already satisfied: nvidia-cudnn-cu12==8.9.2.26 in /usr/local/lib/python3.11/dist-packages (from torch==2.3.0) (8.9.2.26)\n",
            "Requirement already satisfied: nvidia-cublas-cu12==12.1.3.1 in /usr/local/lib/python3.11/dist-packages (from torch==2.3.0) (12.1.3.1)\n",
            "Requirement already satisfied: nvidia-cufft-cu12==11.0.2.54 in /usr/local/lib/python3.11/dist-packages (from torch==2.3.0) (11.0.2.54)\n",
            "Requirement already satisfied: nvidia-curand-cu12==10.3.2.106 in /usr/local/lib/python3.11/dist-packages (from torch==2.3.0) (10.3.2.106)\n",
            "Requirement already satisfied: nvidia-cusolver-cu12==11.4.5.107 in /usr/local/lib/python3.11/dist-packages (from torch==2.3.0) (11.4.5.107)\n",
            "Requirement already satisfied: nvidia-cusparse-cu12==12.1.0.106 in /usr/local/lib/python3.11/dist-packages (from torch==2.3.0) (12.1.0.106)\n",
            "Requirement already satisfied: nvidia-nccl-cu12==2.20.5 in /usr/local/lib/python3.11/dist-packages (from torch==2.3.0) (2.20.5)\n",
            "Requirement already satisfied: nvidia-nvtx-cu12==12.1.105 in /usr/local/lib/python3.11/dist-packages (from torch==2.3.0) (12.1.105)\n",
            "Requirement already satisfied: triton==2.3.0 in /usr/local/lib/python3.11/dist-packages (from torch==2.3.0) (2.3.0)\n",
            "Requirement already satisfied: tqdm in /usr/local/lib/python3.11/dist-packages (from torchtext==0.18.0) (4.67.1)\n",
            "Requirement already satisfied: requests in /usr/local/lib/python3.11/dist-packages (from torchtext==0.18.0) (2.32.3)\n",
            "Requirement already satisfied: numpy in /usr/local/lib/python3.11/dist-packages (from torchtext==0.18.0) (1.26.4)\n",
            "Requirement already satisfied: nvidia-nvjitlink-cu12 in /usr/local/lib/python3.11/dist-packages (from nvidia-cusolver-cu12==11.4.5.107->torch==2.3.0) (12.6.85)\n",
            "Requirement already satisfied: MarkupSafe>=2.0 in /usr/local/lib/python3.11/dist-packages (from jinja2->torch==2.3.0) (3.0.2)\n",
            "Requirement already satisfied: charset-normalizer<4,>=2 in /usr/local/lib/python3.11/dist-packages (from requests->torchtext==0.18.0) (3.4.1)\n",
            "Requirement already satisfied: idna<4,>=2.5 in /usr/local/lib/python3.11/dist-packages (from requests->torchtext==0.18.0) (3.10)\n",
            "Requirement already satisfied: urllib3<3,>=1.21.1 in /usr/local/lib/python3.11/dist-packages (from requests->torchtext==0.18.0) (2.3.0)\n",
            "Requirement already satisfied: certifi>=2017.4.17 in /usr/local/lib/python3.11/dist-packages (from requests->torchtext==0.18.0) (2024.12.14)\n",
            "Requirement already satisfied: mpmath<1.4,>=1.1.0 in /usr/local/lib/python3.11/dist-packages (from sympy->torch==2.3.0) (1.3.0)\n"
          ]
        }
      ]
    },
    {
      "cell_type": "code",
      "source": [
        "import os\n",
        "import sys\n",
        "import time\n",
        "import warnings\n",
        "from pathlib import Path\n",
        "import matplotlib.pyplot as plt\n",
        "\n",
        "import numpy as np\n",
        "import torch\n",
        "import torch.nn as nn\n",
        "import torch.nn.functional as F\n",
        "import requests\n",
        "\n",
        "from Levenshtein import distance\n",
        "from torchtext.data.utils import get_tokenizer\n",
        "from torchtext.vocab import build_vocab_from_iterator\n",
        "\n",
        "# You can also use this section to suppress warnings generated by your code:\n",
        "def warn(*args, **kwargs):\n",
        "    pass\n",
        "import warnings\n",
        "warnings.warn = warn\n",
        "warnings.filterwarnings('ignore')"
      ],
      "metadata": {
        "id": "SlJowdNkorSH"
      },
      "execution_count": 29,
      "outputs": []
    },
    {
      "cell_type": "code",
      "source": [
        "# Device for training\n",
        "device = 'cuda' if torch.cuda.is_available() else 'cpu'\n",
        "split = 'train'\n",
        "\n",
        "# Training parameters\n",
        "learning_rate = 3e-4\n",
        "batch_size = 64\n",
        "max_iters = 5000              # Maximum training iterations\n",
        "eval_interval = 200           # Evaluate model every 'eval_interval' iterations in the training loop\n",
        "eval_iters = 100              # When evaluating, approximate loss using 'eval_iters' batches\n",
        "\n",
        "# Architecture parameters\n",
        "max_vocab_size = 256          # Maximum vocabulary size\n",
        "vocab_size = max_vocab_size   # Real vocabulary size (e.g. BPE has a variable length, so it can be less than 'max_vocab_size')\n",
        "block_size = 16               # Context length for predictions\n",
        "n_embd = 32                   # Embedding size\n",
        "num_heads = 2                 # Number of head in multi-headed attention\n",
        "n_layer = 2                   # Number of Blocks\n",
        "ff_scale_factor = 4           # Note: The '4' magic number is from the paper: In equation 2 uses d_model=512, but d_ff=2048\n",
        "dropout = 0.0                 # Normalization using dropout# 10.788929 M parameters\n",
        "\n",
        "head_size = n_embd // num_heads\n",
        "assert (num_heads * head_size) == n_embd"
      ],
      "metadata": {
        "id": "MJfe5mX9o7Wp"
      },
      "execution_count": 30,
      "outputs": []
    },
    {
      "cell_type": "code",
      "source": [
        "def plot_embdings(my_embdings,name,vocab):\n",
        "\n",
        "  fig = plt.figure()\n",
        "  ax = fig.add_subplot(111, projection='3d')\n",
        "\n",
        "  # Plot the data points\n",
        "  ax.scatter(my_embdings[:,0], my_embdings[:,1], my_embdings[:,2])\n",
        "\n",
        "  # Label the points\n",
        "  for j, label in enumerate(name):\n",
        "      i=vocab.get_stoi()[label]\n",
        "      ax.text(my_embdings[j,0], my_embdings[j,1], my_embdings[j,2], label)\n",
        "\n",
        "  # Set axis labels\n",
        "  ax.set_xlabel('X Label')\n",
        "  ax.set_ylabel('Y Label')\n",
        "  ax.set_zlabel('Z Label')\n",
        "\n",
        "  # Show the plot\n",
        "  plt.show()"
      ],
      "metadata": {
        "id": "ay5oVtLOt_2c"
      },
      "execution_count": 31,
      "outputs": []
    },
    {
      "cell_type": "code",
      "source": [
        "dictionary = {\n",
        "    'le': 'the'\n",
        "    , 'chat': 'cat'\n",
        "    , 'est': 'is'\n",
        "    , 'sous': 'under'\n",
        "    , 'la': 'the'\n",
        "    , 'table': 'table'\n",
        "}"
      ],
      "metadata": {
        "id": "XKjG8ITqwKya"
      },
      "execution_count": 32,
      "outputs": []
    },
    {
      "cell_type": "code",
      "source": [
        "# Create and sort the input vocabulary from the dictionary's keys\n",
        "vocabulary_in = sorted(list(set(dictionary.keys())))\n",
        "# Display the size and the sorted vocabulary for the input language\n",
        "print(f\"Vocabulary input ({len(vocabulary_in)}): {vocabulary_in}\")\n",
        "\n",
        "# Create and sort the output vocabulary from the dictionary's values\n",
        "vocabulary_out = sorted(list(set(dictionary.values())))\n",
        "# Display the size and the sorted vocabulary for the output language\n",
        "print(f\"Vocabulary output ({len(vocabulary_out)}): {vocabulary_out}\")"
      ],
      "metadata": {
        "colab": {
          "base_uri": "https://localhost:8080/"
        },
        "id": "9ljAt_ODuDQi",
        "outputId": "390bbefe-aaf8-4cc2-8fde-1d9e6d00ab7a"
      },
      "execution_count": 33,
      "outputs": [
        {
          "output_type": "stream",
          "name": "stdout",
          "text": [
            "Vocabulary input (6): ['chat', 'est', 'la', 'le', 'sous', 'table']\n",
            "Vocabulary output (5): ['cat', 'is', 'table', 'the', 'under']\n"
          ]
        }
      ]
    },
    {
      "cell_type": "markdown",
      "source": [
        " - The tokenize function is responsible for breaking down a sentence into individual words.\n",
        " - The translate function uses this tokenize function to split the input sentence and then translates each word according to the dictionary. The translated words are concatenated to form the output sentence."
      ],
      "metadata": {
        "id": "a4UGSNq-wTvW"
      }
    },
    {
      "cell_type": "code",
      "source": [
        "# Function to convert a list of vocabulary words into one-hot encoded vectors\n",
        "def encode_one_hot(vocabulary):\n",
        "    vocabulary_size = len(vocabulary)  # Get the size of the vocabulary\n",
        "    one_hot = dict()  # Initialize a dictionary to hold our one-hot encodings\n",
        "    LEN = len(vocabulary)  # The length of each one-hot encoded vector will be equal to the vocabulary size\n",
        "\n",
        "    # Iterate over the vocabulary to create a one-hot encoded vector for each word\n",
        "    for i, key in enumerate(vocabulary):\n",
        "        one_hot_vector = torch.zeros(LEN)  # Start with a vector of zeros\n",
        "        one_hot_vector[i] = 1  # Set the i-th position to 1 for the current word\n",
        "        one_hot[key] = one_hot_vector  # Map the word to its one-hot encoded vector\n",
        "        print(f\"{key}\\t: {one_hot[key]}\")  # Print each word and its encoded vector\n",
        "\n",
        "    return one_hot  # Return the dictionary of words and their one-hot encoded vectors"
      ],
      "metadata": {
        "id": "5YVTtBDbwQXF"
      },
      "execution_count": 34,
      "outputs": []
    },
    {
      "cell_type": "code",
      "source": [
        "# Apply the one-hot encoding function to the input vocabulary and store the result\n",
        "one_hot_in = encode_one_hot(vocabulary_in)"
      ],
      "metadata": {
        "colab": {
          "base_uri": "https://localhost:8080/"
        },
        "id": "ShcjKOdk6y9_",
        "outputId": "41641005-b640-4dae-ef9d-ebed17fc181c"
      },
      "execution_count": 35,
      "outputs": [
        {
          "output_type": "stream",
          "name": "stdout",
          "text": [
            "chat\t: tensor([1., 0., 0., 0., 0., 0.])\n",
            "est\t: tensor([0., 1., 0., 0., 0., 0.])\n",
            "la\t: tensor([0., 0., 1., 0., 0., 0.])\n",
            "le\t: tensor([0., 0., 0., 1., 0., 0.])\n",
            "sous\t: tensor([0., 0., 0., 0., 1., 0.])\n",
            "table\t: tensor([0., 0., 0., 0., 0., 1.])\n"
          ]
        }
      ]
    },
    {
      "cell_type": "code",
      "source": [
        "# Iterate over the one-hot encoded input vocabulary and print each vector\n",
        "# This visualizes the one-hot representation for each word in the input vocabulary\n",
        "for k, v in one_hot_in.items():\n",
        "    print(f\"E_{{ {k} }} = \" , v)"
      ],
      "metadata": {
        "colab": {
          "base_uri": "https://localhost:8080/"
        },
        "id": "kr8xBDtk61iQ",
        "outputId": "f742930c-9da9-4d3e-86f4-e0807cfe374c"
      },
      "execution_count": 36,
      "outputs": [
        {
          "output_type": "stream",
          "name": "stdout",
          "text": [
            "E_{ chat } =  tensor([1., 0., 0., 0., 0., 0.])\n",
            "E_{ est } =  tensor([0., 1., 0., 0., 0., 0.])\n",
            "E_{ la } =  tensor([0., 0., 1., 0., 0., 0.])\n",
            "E_{ le } =  tensor([0., 0., 0., 1., 0., 0.])\n",
            "E_{ sous } =  tensor([0., 0., 0., 0., 1., 0.])\n",
            "E_{ table } =  tensor([0., 0., 0., 0., 0., 1.])\n"
          ]
        }
      ]
    },
    {
      "cell_type": "code",
      "source": [
        "# Apply the one-hot encoding function to the output vocabulary and store the result\n",
        "# This time we're encoding the target language vocabulary\n",
        "one_hot_out = encode_one_hot(vocabulary_out)"
      ],
      "metadata": {
        "colab": {
          "base_uri": "https://localhost:8080/"
        },
        "id": "6NoRHEzp693z",
        "outputId": "bf1d9b46-58fd-4108-8954-999c3ae8d550"
      },
      "execution_count": 37,
      "outputs": [
        {
          "output_type": "stream",
          "name": "stdout",
          "text": [
            "cat\t: tensor([1., 0., 0., 0., 0.])\n",
            "is\t: tensor([0., 1., 0., 0., 0.])\n",
            "table\t: tensor([0., 0., 1., 0., 0.])\n",
            "the\t: tensor([0., 0., 0., 1., 0.])\n",
            "under\t: tensor([0., 0., 0., 0., 1.])\n"
          ]
        }
      ]
    },
    {
      "cell_type": "markdown",
      "source": [
        "The decode_one_hot function is designed to decode a one-hot encoded vector back into the corresponding token (word). It does this by finding the token whose one-hot representation has the highest cosine similarity with the given vector, which is effectively just the dot product due to the nature of one-hot vectors."
      ],
      "metadata": {
        "id": "oPqBDjD67QH3"
      }
    },
    {
      "cell_type": "code",
      "source": [
        "def decode_one_hot(one_hot, vector):\n",
        "    \"\"\"\n",
        "    Decode a one-hot encoded vector to find the best matching token in the vocabulary.\n",
        "    \"\"\"\n",
        "    best_key, best_cosine_sim = None, 0\n",
        "    for k, v in one_hot.items():  # Iterate over the one-hot encoded vocabulary\n",
        "        cosine_sim = torch.dot(vector, v)  # Calculate dot product (cosine similarity)\n",
        "        if cosine_sim > best_cosine_sim:  # If this is the best similarity we've found\n",
        "            best_cosine_sim, best_key = cosine_sim, k  # Update the best similarity and token\n",
        "    return best_key  # Return the token corresponding to the one-hot vector"
      ],
      "metadata": {
        "id": "wCQj-0Ex7OiK"
      },
      "execution_count": 38,
      "outputs": []
    },
    {
      "cell_type": "code",
      "source": [
        "def translate(sentence):\n",
        "    \"\"\"\n",
        "    Translate a sentence using matrix multiplication, treating the dictionaries as matrices.\n",
        "    \"\"\"\n",
        "    sentence_out = ''  # Initialize the output sentence\n",
        "    for token_in in tokenize(sentence):  # Tokenize the input sentence\n",
        "        q = one_hot_in[token_in]  # Find the one-hot vector for the token\n",
        "        out = q @ K.T @ V  # Multiply with the input and output matrices to find the translation\n",
        "        token_out = decode_one_hot(one_hot_out, out)  # Decode the output one-hot vector to a token\n",
        "        sentence_out += token_out + ' '  # Append the translated token to the output sentence\n",
        "    return sentence_out.strip()  # Return the translated sentence"
      ],
      "metadata": {
        "id": "3ItaJpYyJgaf"
      },
      "execution_count": 39,
      "outputs": []
    },
    {
      "cell_type": "markdown",
      "source": [
        "![Screenshot 2025-01-16 153047.jpg](data:image/jpeg;base64,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)"
      ],
      "metadata": {
        "id": "5ByyIVdcLlQ1"
      }
    },
    {
      "cell_type": "markdown",
      "source": [
        "The attention mechanism allows the model to focus on relevant parts of a sentence, helping it understand the context of words.\n",
        "\n",
        "Key Steps in the Attention Mechanism\n",
        "Input Processing:\n",
        "\n",
        "An input sentence (e.g., \"The bank of the river was flooded\") is fed into the model.\n",
        "Each word in the sentence is tokenized and converted into an embedding vector.\n",
        "For each word (or token), three vectors are created by multiplying the embedding vector with three learned matrices:\n",
        "\n",
        "Query vector (Q)\n",
        "\n",
        "Key vector (K)\n",
        "\n",
        "Value vector (V)\n",
        "\n",
        "Generating Attention Scores:\n",
        "\n",
        "To determine how much attention each word should pay to other words, the model:\n",
        "Takes the query vector of the current word (e.g., \"bank\").\n",
        "Multiplies it with the key vectors of all other words in the sentence using a dot product to compute attention scores.\n",
        "A high attention score indicates that a word is highly relevant in the given context (e.g., \"river\" and \"flooded\" are highly relevant to \"bank\" in this example).\n",
        "\n",
        "Using Attention Scores:\n",
        "\n",
        "The attention scores are used to weigh the value vectors of the corresponding words.\n",
        "\n",
        "The model combines the weighted value vectors to produce a context-aware representation of the current word.\n",
        "For example, in the sentence \"The bank of the river was flooded,\" the attention mechanism helps the model understand that \"bank\" refers to a river bank and not a financial institution, based on its relationship with \"river\" and \"flooded.\"\n",
        "Understanding Query, Key, and Value Matrices\n",
        "\n",
        "Key Matrix (K):\n",
        "\n",
        "Learns distinguishing features of each word, helping the model compare words and identify relevant ones.\n",
        "\n",
        "Query Matrix (Q):\n",
        "\n",
        "Learns parameters that, when multiplied with key vectors, produce meaningful attention scores.\n",
        "\n",
        "Value Matrix (V):\n",
        "\n",
        "Stores foundational knowledge about each word (e.g., meanings of \"bank\") and is refined by attention scores to produce context-aware word representations.\n",
        "\n",
        "Purpose of the Attention Mechanism\n",
        "\n",
        "The attention mechanism allows the model to create a context-aware representation of each word in the sentence.\n",
        "\n",
        "This helps the model disambiguate words with multiple meanings (like \"bank\") by focusing on other relevant words in the context.\n",
        "\n",
        "The final output is a set of refined, context-aware vectors for each word, which the model uses for further tasks like translation or text generation."
      ],
      "metadata": {
        "id": "CL7BCvoy_0UB"
      }
    },
    {
      "cell_type": "code",
      "source": [],
      "metadata": {
        "id": "WJNNb_U1_z9R"
      },
      "execution_count": 39,
      "outputs": []
    },
    {
      "cell_type": "markdown",
      "source": [
        "### Purpose of the Key Matrix (K)\n",
        "The Key Matrix (W_K) is a learnable weight matrix in Transformer models.\n",
        "It transforms token embeddings into key vectors, which help assess the relevance of each word in the sentence.\n",
        "\n",
        "These key vectors are later used in the attention mechanism to compute attention scores.\n",
        "\n",
        "### Mathematical Formulation\n",
        "\n",
        "#### Token Embeddings (X):\n",
        "\n",
        "Each word in the sentence is represented as an embedding vector (e.g., 3-dimensional).\n",
        "\n",
        "#### Key Matrix (W_K):\n",
        "\n",
        "A trainable matrix that enriches the embeddings. For example, we have 3×3 matrix, containing learnable weights.\n",
        "\n",
        "If word embeddings have 3 values per word, the Key Matrix must also have 3 input columns to properly transform these embeddings.\n",
        "This ensures that the embedding size aligns with the key transformation.\n",
        "\n",
        "#### Computing the Key Vector (K) for Each Token:\n",
        "\n",
        "Multiply the token embedding X by W_K. For each word ( 1 x 3 embedding  we take dot product with W_K which is 3 x 3) to produce K (1 x 3).\n",
        "\n",
        "The output K is still a 1×3 vector, but now enriched with additional information.\n",
        "\n",
        "#### Constructing the Final Key Matrix (K)\n",
        "\n",
        "We compute the key vector for each token in the sentence.\n",
        "Then, all key vectors are stacked into a final key matrix. Final Key matrix would be of size vocabsize x 3.\n",
        "\n",
        "Note: Dont confuse W_K with final key matrix K.\n",
        "\n",
        "\n",
        "### Purpose of Value Matrix\n",
        "\n",
        "Each word/token in a sentence has a value vector.\n",
        "These value vectors are derived by multiplying the word embeddings with a trainable weight matrix (W_V).\n",
        "Unlike keys and queries, which help decide what to focus on, values store the actual meaning of the words.\n",
        "\n",
        "Example:\n",
        "If we have a sentence:\n",
        "📝 \"The bank of the river was flooded.\"\n",
        "\n",
        "The value vector for \"bank\" contains information about its meaning, but not its context yet.\n",
        "The attention scores help decide which meaning is relevant (e.g., \"bank\" in relation to \"river\" means a geographical location, not a financial institution).\n",
        "\n",
        "The query-key dot product only determines which words are important to a given word (attention scores).\n",
        "\n",
        "However, the model still needs to understand the meaning of words, which is stored in value vectors.\n",
        "\n",
        "These value vectors are multiplied by attention scores to give a final context-aware representation.\n",
        "\n",
        "✅ Think of it Like This:\n",
        "\n",
        "The attention scores (from query-key interaction) tell us where to look.\n",
        "The value matrix contains the actual information about the words.\n",
        "Multiplying them filters the word meanings through attention, allowing the model to pick the correct interpretation.\n",
        "\n",
        "\n",
        "\n"
      ],
      "metadata": {
        "id": "xMDP-qQMHmkn"
      }
    },
    {
      "cell_type": "markdown",
      "source": [],
      "metadata": {
        "id": "3O8mVi3fk5qH"
      }
    },
    {
      "cell_type": "code",
      "source": [
        "class Head(nn.Module):\n",
        "    \"\"\" Self attention head. This class implements a self-attention mechanism\n",
        "        which is a key component of transformer-based neural network architectures. \"\"\"\n",
        "\n",
        "    def __init__(self):\n",
        "        super().__init__()  # Initialize the superclass (nn.Module)\n",
        "        # Embedding layer to convert input token indices to vectors of fixed size (n_embd)\n",
        "        self.embedding = nn.Embedding(vocab_size, n_embd)\n",
        "\n",
        "        # Linear layers to compute the queries, keys, and values from the embeddings\n",
        "\n",
        "        self.key = nn.Linear(n_embd, n_embd, bias=False)\n",
        "        self.query = nn.Linear(n_embd, n_embd, bias=False)\n",
        "        self.value = nn.Linear(n_embd, n_embd, bias=False)\n",
        "\n",
        "    def attention(self, x):\n",
        "        embedded_x = self.embedding(x)\n",
        "        k = self.key(embedded_x)\n",
        "        q = self.query(embedded_x)\n",
        "        v = self.value(embedded_x)\n",
        "        # Attention score\n",
        "        w = q @ k.transpose(-2, -1) * k.shape[-1]**-0.5   # Query * Keys / normalization\n",
        "        w = F.softmax(w, dim=-1)  # Do a softmax across the last dimesion\n",
        "        return embedded_x,k,q,v,w\n",
        "\n",
        "    def forward(self, x):\n",
        "        embedded_x = self.embedding(x)\n",
        "        k = self.key(embedded_x)\n",
        "        q = self.query(embedded_x)\n",
        "        v = self.value(embedded_x)\n",
        "        # Attention score\n",
        "        w = q @ k.transpose(-2, -1) * k.shape[-1]**-0.5   # Query * Keys / normalization\n",
        "        w = F.softmax(w, dim=-1)  # Do a softmax across the last dimesion\n",
        "        # Add weighted values\n",
        "        out = w @ v\n",
        "        return out"
      ],
      "metadata": {
        "id": "Ltdeo8tDKI8n"
      },
      "execution_count": 40,
      "outputs": []
    },
    {
      "cell_type": "code",
      "source": [
        "dataset = [\n",
        "    (1,\"Introduction to NLP\"),\n",
        "    (2,\"Basics of PyTorch\"),\n",
        "    (1,\"NLP Techniques for Text Classification\"),\n",
        "    (3,\"Named Entity Recognition with PyTorch\"),\n",
        "    (3,\"Sentiment Analysis using PyTorch\"),\n",
        "    (3,\"Machine Translation with PyTorch\"),\n",
        "    (1,\" NLP Named Entity,Sentiment Analysis,Machine Translation \"),\n",
        "    (1,\" Machine Translation with NLP \"),\n",
        "    (1,\" Named Entity vs Sentiment Analysis  NLP \"),\n",
        "    (3,\"he painted the car red\"),\n",
        "    (1,\"he painted the red car\")\n",
        "    ]"
      ],
      "metadata": {
        "id": "pztnAViuVHn8"
      },
      "execution_count": 41,
      "outputs": []
    },
    {
      "cell_type": "code",
      "source": [
        "tokenizer = get_tokenizer(\"basic_english\")  # Get a basic English tokenizer"
      ],
      "metadata": {
        "id": "DXjpun-pVKtJ"
      },
      "execution_count": 42,
      "outputs": []
    },
    {
      "cell_type": "code",
      "source": [
        "def yield_tokens(data_iter):\n",
        "    \"\"\"Yield list of tokens in the dataset.\"\"\"\n",
        "    for _, text in data_iter:\n",
        "        yield tokenizer(text)\n",
        "\n",
        "vocab = build_vocab_from_iterator(yield_tokens(dataset), specials=[\"<unk>\"])\n",
        "vocab.set_default_index(vocab[\"<unk>\"])  # Set default index for unknown words"
      ],
      "metadata": {
        "id": "NSJP8fZUVOUM"
      },
      "execution_count": 43,
      "outputs": []
    },
    {
      "cell_type": "code",
      "source": [
        "def text_pipeline(x):\n",
        "    \"\"\"Converts a text string to a list of token indices.\"\"\"\n",
        "    return vocab(tokenizer(x))  # Tokenize the input and map each token to its index in the vocabulary"
      ],
      "metadata": {
        "id": "-8dhzZ97Vg_S"
      },
      "execution_count": 44,
      "outputs": []
    },
    {
      "cell_type": "code",
      "source": [
        "vocab_size = len(vocab)  # Total number of tokens in the vocabulary\n",
        "n_embd = 3  # Dimension of the embedding space\n",
        "\n",
        "# Create the attention head with the integrated embedding layer\n",
        "attention_head = Head()"
      ],
      "metadata": {
        "id": "KaRyu6xeVjFe"
      },
      "execution_count": 45,
      "outputs": []
    },
    {
      "cell_type": "code",
      "source": [
        "# Define the sentence to be tokenized and converted to indices\n",
        "my_tokens = 'he painted the car red'\n",
        "# Apply the text pipeline to the sentence to get token indices\n",
        "input_data = torch.tensor(text_pipeline(my_tokens), dtype=torch.long)\n",
        "\n",
        "# Print out the shape and the token indices tensor\n",
        "print(input_data.shape)\n",
        "print(input_data)"
      ],
      "metadata": {
        "colab": {
          "base_uri": "https://localhost:8080/"
        },
        "id": "J4Xar-ALVoSo",
        "outputId": "66b92090-05d5-43db-bf9a-5e25fd62802c"
      },
      "execution_count": 46,
      "outputs": [
        {
          "output_type": "stream",
          "name": "stdout",
          "text": [
            "torch.Size([5])\n",
            "tensor([12, 13, 15, 11, 14])\n"
          ]
        }
      ]
    },
    {
      "cell_type": "markdown",
      "source": [
        "### Step 1: Embedding\n",
        "The input consists of token indices for a sentence of size 5.\n",
        "When passed through an embedding layer, each token is converted into an embedding vector. If the embedding size is 3, the resulting matrix is (5 × 3) (sentence length × embedding size).\n",
        "\n",
        "### Step 2: Computing Key, Query, and Value\n",
        "Once we obtain the (5 × 3) embeddings, we compute:\n",
        "\n",
        "Query (Q)\n",
        "\n",
        "Key (K)\n",
        "\n",
        "Value (V)\n",
        "\n",
        "These are calculated by multiplying embeddings with trainable weight matrices:\n",
        "\n",
        "Query Weight Matrix (Wq): (3 × 3)\n",
        "\n",
        "Key Weight Matrix (Wk): (3 × 3)\n",
        "\n",
        "Value Weight Matrix (Wv): (3 × 3)\n",
        "\n",
        "Since we dot product the embedding matrix (5 × 3) with Wq, Wk, and Wv (3 × 3),\n",
        "\n",
        "we get:\n",
        "\n",
        "Q (5 × 3)\n",
        "\n",
        "K (5 × 3)\n",
        "\n",
        "V (5 × 3)\n",
        "\n",
        "Each row in Q, K, V represents the transformed representation of a word.\n",
        "\n",
        "### Step 3: Computing Alignment Scores (Attention Weights)\n",
        "\n",
        "To compute alignment scores (i.e., how much focus one word should give to another), we take:\n",
        "\n",
        "Query (5 × 3)\n",
        "\n",
        "Key (5 × 3)\n",
        "\n",
        "Since matrix multiplication requires matching dimensions, we transpose K to (3 × 5).\n",
        "\n",
        "Output (5 × 5):\n",
        "\n",
        "Each row represents a word.\n",
        "\n",
        "Each column represents the attention score it assigns to every other word. Its word to word relationship.\n",
        "\n",
        "### Step 4: Applying Softmax Normalization\n",
        "\n",
        "The computed (5 × 5) attention scores are raw and need to be normalized.\n",
        "Softmax is applied row-wise, ensuring that scores sum to 1 per row.\n",
        "This converts scores into a probability distribution, telling us how much attention each word should give to another.\n",
        "\n",
        "\n",
        "### Summary\n",
        "\n",
        "Embedding transformation (5 × 3)\n",
        "\n",
        "Dot product for Q, K, V computation\n",
        "\n",
        "Dot product for alignment scores (5 × 5)\n",
        "\n",
        "Softmax normalization of attention scores"
      ],
      "metadata": {
        "id": "hC5dWOdthIBc"
      }
    },
    {
      "cell_type": "code",
      "source": [
        "# Pass the tokenized input data through the embedding layer and the attention mechanism of the Head class\n",
        "embedded_x, k, q, v, w = attention_head.attention(input_data)\n",
        "\n",
        "# Print the size of the resulting embedded vector for verification\n",
        "print(embedded_x.shape)  # Should show the shape as [number of tokens, embedding dimension]\n",
        "print(\"embedded_x:\", embedded_x)  # The actual embedded representations of the input tokens"
      ],
      "metadata": {
        "colab": {
          "base_uri": "https://localhost:8080/"
        },
        "id": "UHfCgHZ8g-0q",
        "outputId": "ef4bf275-2b1a-4571-fb1f-baa17a17a496"
      },
      "execution_count": 47,
      "outputs": [
        {
          "output_type": "stream",
          "name": "stdout",
          "text": [
            "torch.Size([5, 3])\n",
            "embedded_x: tensor([[-1.6661,  0.3876,  0.4032],\n",
            "        [-0.6483, -1.3671,  1.3516],\n",
            "        [ 0.7744,  1.3824, -0.4904],\n",
            "        [ 0.6508,  0.6880, -1.0387],\n",
            "        [-1.9157,  0.6080,  0.6555]], grad_fn=<EmbeddingBackward0>)\n"
          ]
        }
      ]
    },
    {
      "cell_type": "code",
      "source": [
        "# Print the shapes of the key, query, value, and attention weight matrices\n",
        "# This helps verify the dimensions are as expected for the attention calculations\n",
        "print(\"k:\", k.shape)  # The shape of the keys tensor\n",
        "print(\"q:\", q.shape)  # The shape of the queries tensor\n",
        "print(\"v:\", v.shape)  # The shape of the values tensor\n",
        "print(\"w:\", w.shape)  # The shape of the attention weights tensor"
      ],
      "metadata": {
        "colab": {
          "base_uri": "https://localhost:8080/"
        },
        "id": "Bvqd98_HhEnH",
        "outputId": "bddf2d18-1899-456f-ade5-f8fa3878a726"
      },
      "execution_count": 48,
      "outputs": [
        {
          "output_type": "stream",
          "name": "stdout",
          "text": [
            "k: torch.Size([5, 3])\n",
            "q: torch.Size([5, 3])\n",
            "v: torch.Size([5, 3])\n",
            "w: torch.Size([5, 5])\n"
          ]
        }
      ]
    },
    {
      "cell_type": "code",
      "source": [
        "# Now we actually pass the input data through the entire attention head to get the output, this will automatically call forward method\n",
        "output = attention_head(input_data)\n",
        "\n",
        "# Print the output and its shape, which should match the shape of the input\n",
        "# The output tensor contains the final attention-applied representations of the input\n",
        "print(output.shape)\n",
        "print(output)"
      ],
      "metadata": {
        "colab": {
          "base_uri": "https://localhost:8080/"
        },
        "id": "ug5Pw5e1hm78",
        "outputId": "18ce26e6-55e7-4141-ae2d-9721c5e5c44d"
      },
      "execution_count": 49,
      "outputs": [
        {
          "output_type": "stream",
          "name": "stdout",
          "text": [
            "torch.Size([5, 3])\n",
            "tensor([[-0.0839, -0.1228, -0.4970],\n",
            "        [-0.0814, -0.1314, -0.4799],\n",
            "        [-0.0363,  0.0772, -0.2647],\n",
            "        [-0.0333,  0.0934, -0.2534],\n",
            "        [-0.0894, -0.1446, -0.5249]], grad_fn=<MmBackward0>)\n"
          ]
        }
      ]
    },
    {
      "cell_type": "markdown",
      "source": [
        "### Positional Encoding:\n",
        "\n",
        "Now lets go into detail and see in the architecture where to add positional encoding and why.\n",
        "\n",
        "#### Key Differences Between RNN and Transformer Models\n",
        "\n",
        "RNN-based models process words sequentially (word-by-word in order), meaning they inherently understand word positions.\n",
        "\n",
        "Transformer models process the entire sentence at once, meaning they do not have a built-in understanding of word order.\n",
        "\n",
        "To compensate for this lack of sequential order, positional encodings are added to word embeddings.\n",
        "\n",
        "Since Transformers process all words simultaneously, they do not inherently know which word came first, second, etc.\n",
        "\n",
        "Positional encodings are added to embeddings to provide order information to the model.\n",
        "\n",
        "These encodings help the model differentiate word positions in a sentence.\n",
        "\n",
        "### Transformer Model Architecture\n",
        "#### BERT vs. DistilBERT\n",
        "\n",
        "Both have the same Transformer architecture but differ in the number of layers.\n",
        "\n",
        "BERT has 12 Transformer layers, while DistilBERT has 6 layers (making it smaller and faster).\n",
        "\n",
        "#### Transformer Layer Components\n",
        "\n",
        "Each layer includes Query (Q), Key (K), Value (V), Multi-Head Attention, Layer Normalization, and Feed-Forward Networks.\n",
        "\n",
        "Positional encodings are added before passing inputs into the Transformer layers.\n",
        "\n",
        "\n",
        "### Summary\n",
        " - RNNs process words sequentially, so they inherently understand order.\n",
        " - Transformers process all words at once, so they require positional encodings to retain word order information.\n",
        " - BERT and DistilBERT share the same Transformer architecture, but DistilBERT has fewer layers for efficiency.\n",
        " - Positional encodings are added to embeddings before inputting into the\n",
        " - Transformer model to ensure the model understands word positions.\n"
      ],
      "metadata": {
        "id": "qnFExHLclg7Y"
      }
    },
    {
      "cell_type": "markdown",
      "source": [
        "![Screenshot 2025-01-18 032425.jpg](data:image/jpeg;base64,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)"
      ],
      "metadata": {
        "id": "bKZuPEc-lDgF"
      }
    },
    {
      "cell_type": "markdown",
      "source": [
        "1. Why Do We Need Positional Encodings?\n",
        "\n",
        "✅ RNN-based models process words sequentially, so they naturally understand order.\n",
        "\n",
        "✅ Transformers process all words at once, meaning they do not know which word came first.\n",
        "\n",
        "✅ Positional encodings are added to input embeddings to provide word position information.\n",
        "\n",
        " How Are Positional Encodings Added?\n",
        "\n",
        "Step 1: Convert text into token embeddings (e.g., \"I am a robot\" → vectors).\n",
        "\n",
        "Step 2: Create positional encodings (P0, P1, P2, P3) for each word position.\n",
        "\n",
        "Step 3: Perform element-wise addition of embeddings and positional encodings.\n",
        "\n",
        "Step 4: The modified position-aware embeddings are now ready for the Transformer layers.\n"
      ],
      "metadata": {
        "id": "aJ9C2aSbw59s"
      }
    },
    {
      "cell_type": "code",
      "source": [],
      "metadata": {
        "id": "6cOkZRR2ld03"
      },
      "execution_count": 49,
      "outputs": []
    },
    {
      "cell_type": "code",
      "source": [],
      "metadata": {
        "id": "KOozCvzplNkB"
      },
      "execution_count": 49,
      "outputs": []
    },
    {
      "cell_type": "markdown",
      "source": [],
      "metadata": {
        "id": "y9rYig71lFyp"
      }
    }
  ],
  "metadata": {
    "kernelspec": {
      "display_name": "Python 3",
      "language": "python",
      "name": "python3"
    },
    "language_info": {
      "codemirror_mode": {
        "name": "ipython",
        "version": 3
      },
      "file_extension": ".py",
      "mimetype": "text/x-python",
      "name": "python",
      "nbconvert_exporter": "python",
      "pygments_lexer": "ipython3",
      "version": "3.12.1"
    },
    "colab": {
      "provenance": []
    }
  },
  "nbformat": 4,
  "nbformat_minor": 0
}