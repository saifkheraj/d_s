{
 "cells": [
  {
   "cell_type": "code",
   "execution_count": null,
   "id": "307d73d3",
   "metadata": {
    "id": "307d73d3"
   },
   "outputs": [],
   "source": [
    "import warnings\n",
    "import os\n",
    "warnings.filterwarnings('ignore')\n",
    "os.environ['PIP_ROOT_USER_ACTION'] = 'ignore'"
   ]
  },
  {
   "cell_type": "code",
   "execution_count": null,
   "id": "qkQtexBNwzuk",
   "metadata": {
    "colab": {
     "base_uri": "https://localhost:8080/"
    },
    "id": "qkQtexBNwzuk",
    "outputId": "c9e4a6d7-b755-4668-ce6e-0e1f6cdd6c47"
   },
   "outputs": [],
   "source": [
    "pip install crewai\n"
   ]
  },
  {
   "cell_type": "code",
   "execution_count": null,
   "id": "EKgx7BW6w3tD",
   "metadata": {
    "colab": {
     "base_uri": "https://localhost:8080/"
    },
    "id": "EKgx7BW6w3tD",
    "outputId": "05cc28b8-f516-4f04-b989-811bf5183ec6"
   },
   "outputs": [],
   "source": [
    "pip install crewai_tools"
   ]
  },
  {
   "cell_type": "code",
   "execution_count": null,
   "id": "kvBbu7WNydgJ",
   "metadata": {
    "colab": {
     "base_uri": "https://localhost:8080/"
    },
    "id": "kvBbu7WNydgJ",
    "outputId": "a900c3b8-66c3-4497-97f3-740ba29b509b"
   },
   "outputs": [],
   "source": [
    "pip install langchain_groq"
   ]
  },
  {
   "cell_type": "code",
   "execution_count": null,
   "id": "752z6UJ4wxZz",
   "metadata": {
    "id": "752z6UJ4wxZz"
   },
   "outputs": [],
   "source": [
    "from crewai import Agent, Task, Crew, Process\n",
    "from crewai_tools import ScrapeWebsiteTool, SerperDevTool\n",
    "\n",
    "# Create a search tool\n",
    "search_tool = SerperDevTool()\n",
    "scrape_tool = ScrapeWebsiteTool()\n",
    "\n",
    "\n",
    "import os\n",
    "os.environ[\"OPENAI_API_KEY\"] = ''\n",
    "os.environ[\"GROQ_API_KEY\"] = ''\n",
    "os.environ[\"SERPER_API_KEY\"] = ''"
   ]
  },
  {
   "cell_type": "code",
   "execution_count": null,
   "id": "ZZ5WGDIfybq-",
   "metadata": {
    "id": "ZZ5WGDIfybq-"
   },
   "outputs": [],
   "source": [
    "from langchain_groq import ChatGroq\n",
    "from langchain_openai import ChatOpenAI\n",
    "\n",
    "\n",
    "model = 'llama3-groq-70b-8192-tool-use-preview'\n",
    "#llm = ChatGroq(\n",
    "#            temperature=0,\n",
    "#            groq_api_key = os.getenv('GROQ_API_KEY'),\n",
    "#            model_name=model\n",
    "#        )\n",
    "\n",
    "llm = ChatOpenAI(\n",
    "    temperature=0,\n",
    "    openai_api_key=os.getenv('OPENAI_API_KEY'),\n",
    "    model_name=\"gpt-4o\"  # or \"gpt-3.5-turbo\", \"gpt-4\", etc.\n",
    ")"
   ]
  },
  {
   "cell_type": "code",
   "execution_count": null,
   "id": "Ltn4BQZR8FAz",
   "metadata": {
    "colab": {
     "base_uri": "https://localhost:8080/"
    },
    "id": "Ltn4BQZR8FAz",
    "outputId": "d3b80c56-3eb6-4287-f400-0c75a0298222"
   },
   "outputs": [],
   "source": [
    "research_analyst_agent = Agent(\n",
    "    role=\"Research Analyst\",\n",
    "    goal=\"Create and analyze research points to provide comprehensive insights on various topics.\",\n",
    "    backstory=\"Specializing in research analysis, this agent employs advanced methodologies to generate detailed research points and insights. With a deep understanding of research frameworks and a talent for synthesizing information, the Research Analyst Agent is instrumental in delivering thorough and actionable research outcomes.\",\n",
    "    verbose=True,\n",
    "    allow_delegation=True,\n",
    "    tools=[scrape_tool, search_tool],\n",
    "    llm=llm\n",
    ")\n",
    "\n",
    "report_writer_agent = Agent(\n",
    "    role=\"Report Writer\",\n",
    "    goal=\"Compile the analyzed data into a comprehensive and well-structured research report.\",\n",
    "    backstory=\"You are skilled at transforming complex information into clear, concise, and informative reports.\",\n",
    "    verbose=True,\n",
    "    allow_delegation=True,\n",
    "    llm=llm\n",
    ")\n",
    "\n",
    "report_editor_agent = Agent(\n",
    "    role=\"Report Editor\",\n",
    "    goal=\"Review and refine research reports to ensure clarity, accuracy, and adherence to standards.\",\n",
    "    backstory=\"With a keen eye for detail and a strong background in report editing, this agent ensures that research reports are polished, coherent, and meet high-quality standards. Skilled in revising content for clarity and consistency, the Report Editor Agent plays a critical role in finalizing research outputs.\",\n",
    "    verbose=True,\n",
    "    llm=llm\n",
    ")\n"
   ]
  },
  {
   "cell_type": "code",
   "execution_count": null,
   "id": "eyrhmH_l8nFe",
   "metadata": {
    "id": "eyrhmH_l8nFe"
   },
   "outputs": [],
   "source": [
    "# Define tasks\n",
    "data_collection_task = Task(\n",
    "    description=(\n",
    "        \"Collect data from relevant sources about the given {topic}.\"\n",
    "        \"Focus on identifying key trends, benefits, and challenges.\"\n",
    "    ),\n",
    "    expected_output=(\n",
    "        \"A comprehensive dataset that includes recent studies, statistics, and expert opinions.\"\n",
    "    ),\n",
    "    agent=research_analyst_agent,\n",
    ")\n",
    "\n",
    "data_analysis_task = Task(\n",
    "    description=(\n",
    "        \"Analyze the collected data to identify key trends, benefits, and challenges for the {topic}.\"\n",
    "    ),\n",
    "    expected_output=(\n",
    "        \"A detailed analysis report highlighting the most significant findings.\"\n",
    "    ),\n",
    "    agent=research_analyst_agent,\n",
    ")\n",
    "\n",
    "report_writing_task = Task(\n",
    "    description=(\n",
    "        \"Write a comprehensive research report that clearly presents the findings from the data analysis report\"\n",
    "    ),\n",
    "    expected_output=(\n",
    "        \"A well-structured research report that provides insights about the topic.\"\n",
    "    ),\n",
    "    agent=report_writer_agent,\n",
    ")\n",
    "\n",
    "report_assessment_task = Task(\n",
    "    description=(\n",
    "        \"Review and rewrite the research report to ensure clarity, accuracy, and adherence to standards.\"\n",
    "    ),\n",
    "    expected_output=(\n",
    "        \"A polished, coherent research report that meets high-quality standards and effectively communicates the findings.\"\n",
    "    ),\n",
    "    agent=report_editor_agent,\n",
    ")\n"
   ]
  },
  {
   "cell_type": "code",
   "execution_count": null,
   "id": "O5AktL7L8XXH",
   "metadata": {
    "colab": {
     "base_uri": "https://localhost:8080/",
     "height": 1000,
     "referenced_widgets": [
      "cd29102cefb6460c81563f35ee487807",
      "2c38d42efb2746d89fe4cfd1a3f564b3",
      "fd89d01503bf49058a3a5ba26e50bdd3",
      "431165046cf14ad9984b8b6d900aff0d",
      "781686c5632d433a816b4435d2abcff5",
      "79a31f5ddaeb420b898fa2723ff33f33"
     ]
    },
    "id": "O5AktL7L8XXH",
    "outputId": "1f03f51b-1f2e-4a09-e7e3-77558d52924a"
   },
   "outputs": [],
   "source": [
    "# Define the hierarchical crew with a management LLM\n",
    "research_crew = Crew(\n",
    "    agents=[research_analyst_agent, report_writer_agent, report_editor_agent],\n",
    "    tasks=[data_collection_task, data_analysis_task, report_writing_task, report_assessment_task],\n",
    "    manager_llm=llm,\n",
    "    process=Process.hierarchical,\n",
    "    verbose=True\n",
    ")\n",
    "\n",
    "# Define the input for the research topic\n",
    "research_inputs = {\n",
    "    'topic': 'The impact of AI on modern healthcare systems'\n",
    "}\n",
    "\n",
    "# Kickoff the project with the specified topic\n",
    "result = research_crew.kickoff(inputs=research_inputs)\n"
   ]
  }
 ],
 "metadata": {
  "colab": {
   "provenance": []
  },
  "kernelspec": {
   "display_name": "Python 3",
   "language": "python",
   "name": "python3"
  },
  "language_info": {
   "codemirror_mode": {
    "name": "ipython",
    "version": 3
   },
   "file_extension": ".py",
   "mimetype": "text/x-python",
   "name": "python",
   "nbconvert_exporter": "python",
   "pygments_lexer": "ipython3",
   "version": "3.12.1"
  },
  "widgets": {
   "application/vnd.jupyter.widget-state+json": {
    "2c38d42efb2746d89fe4cfd1a3f564b3": {
     "model_module": "@jupyter-widgets/base",
     "model_module_version": "1.2.0",
     "model_name": "LayoutModel",
     "state": {
      "_model_module": "@jupyter-widgets/base",
      "_model_module_version": "1.2.0",
      "_model_name": "LayoutModel",
      "_view_count": null,
      "_view_module": "@jupyter-widgets/base",
      "_view_module_version": "1.2.0",
      "_view_name": "LayoutView",
      "align_content": null,
      "align_items": null,
      "align_self": null,
      "border": null,
      "bottom": null,
      "display": null,
      "flex": null,
      "flex_flow": null,
      "grid_area": null,
      "grid_auto_columns": null,
      "grid_auto_flow": null,
      "grid_auto_rows": null,
      "grid_column": null,
      "grid_gap": null,
      "grid_row": null,
      "grid_template_areas": null,
      "grid_template_columns": null,
      "grid_template_rows": null,
      "height": null,
      "justify_content": null,
      "justify_items": null,
      "left": null,
      "margin": null,
      "max_height": null,
      "max_width": null,
      "min_height": null,
      "min_width": null,
      "object_fit": null,
      "object_position": null,
      "order": null,
      "overflow": null,
      "overflow_x": null,
      "overflow_y": null,
      "padding": null,
      "right": null,
      "top": null,
      "visibility": null,
      "width": null
     }
    },
    "431165046cf14ad9984b8b6d900aff0d": {
     "model_module": "@jupyter-widgets/base",
     "model_module_version": "1.2.0",
     "model_name": "LayoutModel",
     "state": {
      "_model_module": "@jupyter-widgets/base",
      "_model_module_version": "1.2.0",
      "_model_name": "LayoutModel",
      "_view_count": null,
      "_view_module": "@jupyter-widgets/base",
      "_view_module_version": "1.2.0",
      "_view_name": "LayoutView",
      "align_content": null,
      "align_items": null,
      "align_self": null,
      "border": null,
      "bottom": null,
      "display": null,
      "flex": null,
      "flex_flow": null,
      "grid_area": null,
      "grid_auto_columns": null,
      "grid_auto_flow": null,
      "grid_auto_rows": null,
      "grid_column": null,
      "grid_gap": null,
      "grid_row": null,
      "grid_template_areas": null,
      "grid_template_columns": null,
      "grid_template_rows": null,
      "height": null,
      "justify_content": null,
      "justify_items": null,
      "left": null,
      "margin": null,
      "max_height": null,
      "max_width": null,
      "min_height": null,
      "min_width": null,
      "object_fit": null,
      "object_position": null,
      "order": null,
      "overflow": null,
      "overflow_x": null,
      "overflow_y": null,
      "padding": null,
      "right": null,
      "top": null,
      "visibility": null,
      "width": null
     }
    },
    "781686c5632d433a816b4435d2abcff5": {
     "model_module": "@jupyter-widgets/output",
     "model_module_version": "1.0.0",
     "model_name": "OutputModel",
     "state": {
      "_dom_classes": [],
      "_model_module": "@jupyter-widgets/output",
      "_model_module_version": "1.0.0",
      "_model_name": "OutputModel",
      "_view_count": null,
      "_view_module": "@jupyter-widgets/output",
      "_view_module_version": "1.0.0",
      "_view_name": "OutputView",
      "layout": "IPY_MODEL_79a31f5ddaeb420b898fa2723ff33f33",
      "msg_id": "",
      "outputs": [
       {
        "data": {
         "text/html": "<pre style=\"white-space:pre;overflow-x:auto;line-height:normal;font-family:Menlo,'DejaVu Sans Mono',consolas,'Courier New',monospace\"><span style=\"color: #008080; text-decoration-color: #008080; font-weight: bold\">🚀 Crew: crew</span>\n└── <span style=\"color: #808000; text-decoration-color: #808000; font-weight: bold\">📋 Task: ad417b30-38c1-4ccb-8116-2ded0eb76ece</span>\n    <span style=\"color: #c0c0c0; text-decoration-color: #c0c0c0\">Status: </span><span style=\"color: #bfbf7f; text-decoration-color: #bfbf7f\">Executing Task...</span>\n    ├── <span style=\"color: #008000; text-decoration-color: #008000; font-weight: bold\">🔧 </span><span style=\"color: #008000; text-decoration-color: #008000\">Used Search the internet with Serper (1)</span>\n    ├── <span style=\"color: #008000; text-decoration-color: #008000; font-weight: bold\">🔧 </span><span style=\"color: #008000; text-decoration-color: #008000\">Used Read website content (1)</span>\n    └── <span style=\"color: #800000; text-decoration-color: #800000; font-weight: bold\">❌ LLM Failed</span>\n</pre>\n",
         "text/plain": "\u001b[1;36m🚀 Crew: \u001b[0m\u001b[1;36mcrew\u001b[0m\n└── \u001b[1;33m📋 Task: ad417b30-38c1-4ccb-8116-2ded0eb76ece\u001b[0m\n    \u001b[37mStatus: \u001b[0m\u001b[2;33mExecuting Task...\u001b[0m\n    ├── \u001b[1;32m🔧 \u001b[0m\u001b[32mUsed Search the internet with Serper (1)\u001b[0m\n    ├── \u001b[1;32m🔧 \u001b[0m\u001b[32mUsed Read website content (1)\u001b[0m\n    └── \u001b[1;31m❌ LLM Failed\u001b[0m\n"
        },
        "metadata": {},
        "output_type": "display_data"
       }
      ]
     }
    },
    "79a31f5ddaeb420b898fa2723ff33f33": {
     "model_module": "@jupyter-widgets/base",
     "model_module_version": "1.2.0",
     "model_name": "LayoutModel",
     "state": {
      "_model_module": "@jupyter-widgets/base",
      "_model_module_version": "1.2.0",
      "_model_name": "LayoutModel",
      "_view_count": null,
      "_view_module": "@jupyter-widgets/base",
      "_view_module_version": "1.2.0",
      "_view_name": "LayoutView",
      "align_content": null,
      "align_items": null,
      "align_self": null,
      "border": null,
      "bottom": null,
      "display": null,
      "flex": null,
      "flex_flow": null,
      "grid_area": null,
      "grid_auto_columns": null,
      "grid_auto_flow": null,
      "grid_auto_rows": null,
      "grid_column": null,
      "grid_gap": null,
      "grid_row": null,
      "grid_template_areas": null,
      "grid_template_columns": null,
      "grid_template_rows": null,
      "height": null,
      "justify_content": null,
      "justify_items": null,
      "left": null,
      "margin": null,
      "max_height": null,
      "max_width": null,
      "min_height": null,
      "min_width": null,
      "object_fit": null,
      "object_position": null,
      "order": null,
      "overflow": null,
      "overflow_x": null,
      "overflow_y": null,
      "padding": null,
      "right": null,
      "top": null,
      "visibility": null,
      "width": null
     }
    },
    "cd29102cefb6460c81563f35ee487807": {
     "model_module": "@jupyter-widgets/output",
     "model_module_version": "1.0.0",
     "model_name": "OutputModel",
     "state": {
      "_dom_classes": [],
      "_model_module": "@jupyter-widgets/output",
      "_model_module_version": "1.0.0",
      "_model_name": "OutputModel",
      "_view_count": null,
      "_view_module": "@jupyter-widgets/output",
      "_view_module_version": "1.0.0",
      "_view_name": "OutputView",
      "layout": "IPY_MODEL_2c38d42efb2746d89fe4cfd1a3f564b3",
      "msg_id": "",
      "outputs": [
       {
        "data": {
         "text/html": "<pre style=\"white-space:pre;overflow-x:auto;line-height:normal;font-family:Menlo,'DejaVu Sans Mono',consolas,'Courier New',monospace\"><span style=\"color: #008080; text-decoration-color: #008080; font-weight: bold\">🚀 Crew: crew</span>\n└── <span style=\"color: #808000; text-decoration-color: #808000; font-weight: bold\">📋 Task: ad417b30-38c1-4ccb-8116-2ded0eb76ece</span>\n    <span style=\"color: #c0c0c0; text-decoration-color: #c0c0c0\">Status: </span><span style=\"color: #bfbf7f; text-decoration-color: #bfbf7f\">Executing Task...</span>\n    └── <span style=\"color: #808000; text-decoration-color: #808000; font-weight: bold\">🔧 </span><span style=\"color: #808000; text-decoration-color: #808000\">Using Search the internet with Serper (1)</span>\n</pre>\n",
         "text/plain": "\u001b[1;36m🚀 Crew: \u001b[0m\u001b[1;36mcrew\u001b[0m\n└── \u001b[1;33m📋 Task: ad417b30-38c1-4ccb-8116-2ded0eb76ece\u001b[0m\n    \u001b[37mStatus: \u001b[0m\u001b[2;33mExecuting Task...\u001b[0m\n    └── \u001b[1;33m🔧 \u001b[0m\u001b[33mUsing Search the internet with Serper (1)\u001b[0m\n"
        },
        "metadata": {},
        "output_type": "display_data"
       }
      ]
     }
    },
    "fd89d01503bf49058a3a5ba26e50bdd3": {
     "model_module": "@jupyter-widgets/output",
     "model_module_version": "1.0.0",
     "model_name": "OutputModel",
     "state": {
      "_dom_classes": [],
      "_model_module": "@jupyter-widgets/output",
      "_model_module_version": "1.0.0",
      "_model_name": "OutputModel",
      "_view_count": null,
      "_view_module": "@jupyter-widgets/output",
      "_view_module_version": "1.0.0",
      "_view_name": "OutputView",
      "layout": "IPY_MODEL_431165046cf14ad9984b8b6d900aff0d",
      "msg_id": "",
      "outputs": [
       {
        "data": {
         "text/html": "<pre style=\"white-space:pre;overflow-x:auto;line-height:normal;font-family:Menlo,'DejaVu Sans Mono',consolas,'Courier New',monospace\"><span style=\"color: #008080; text-decoration-color: #008080; font-weight: bold\">🚀 Crew: crew</span>\n└── <span style=\"color: #808000; text-decoration-color: #808000; font-weight: bold\">📋 Task: ad417b30-38c1-4ccb-8116-2ded0eb76ece</span>\n    <span style=\"color: #c0c0c0; text-decoration-color: #c0c0c0\">Status: </span><span style=\"color: #bfbf7f; text-decoration-color: #bfbf7f\">Executing Task...</span>\n    ├── <span style=\"color: #008000; text-decoration-color: #008000; font-weight: bold\">🔧 </span><span style=\"color: #008000; text-decoration-color: #008000\">Used Search the internet with Serper (1)</span>\n    └── <span style=\"color: #808000; text-decoration-color: #808000; font-weight: bold\">🔧 </span><span style=\"color: #808000; text-decoration-color: #808000\">Using Read website content (1)</span>\n</pre>\n",
         "text/plain": "\u001b[1;36m🚀 Crew: \u001b[0m\u001b[1;36mcrew\u001b[0m\n└── \u001b[1;33m📋 Task: ad417b30-38c1-4ccb-8116-2ded0eb76ece\u001b[0m\n    \u001b[37mStatus: \u001b[0m\u001b[2;33mExecuting Task...\u001b[0m\n    ├── \u001b[1;32m🔧 \u001b[0m\u001b[32mUsed Search the internet with Serper (1)\u001b[0m\n    └── \u001b[1;33m🔧 \u001b[0m\u001b[33mUsing Read website content (1)\u001b[0m\n"
        },
        "metadata": {},
        "output_type": "display_data"
       }
      ]
     }
    }
   }
  }
 },
 "nbformat": 4,
 "nbformat_minor": 5
}
